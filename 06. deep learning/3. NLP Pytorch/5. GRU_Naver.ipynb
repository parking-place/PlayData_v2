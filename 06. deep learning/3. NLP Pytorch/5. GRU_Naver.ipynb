{
 "cells": [
  {
   "cell_type": "code",
   "execution_count": null,
   "metadata": {},
   "outputs": [],
   "source": [
    "######################\n",
    "# 모듈 임포트\n",
    "######################\n",
    "import numpy as np \n",
    "import pandas as pd \n",
    "\n",
    "import torch \n",
    "import torch.nn as nn \n",
    "from torch.utils.data import Dataset, DataLoader\n",
    "\n",
    "from torch.autograd import Variable\n",
    "from torchtext.vocab import build_vocab_from_iterator\n",
    "\n",
    "from tqdm import tqdm\n",
    "\n",
    "from konlpy.tag import Okt\n",
    "\n",
    "from sklearn.metrics import accuracy_score\n",
    "from sklearn.model_selection import train_test_split\n",
    "\n",
    "import matplotlib.pyplot as plt\n",
    "\n",
    "import time\n",
    "\n",
    "import pickle as pkl\n",
    "\n",
    "tqdm.pandas()\n",
    "\n",
    "try:\n",
    "    from google.colab import drive\n",
    "    \n",
    "    drive.mount('/content/data')\n",
    "    DATA_PATH = \"/content/data/MyDrive/google_lecture/06. deep learning/3. NLP Pytorch/data/\"\n",
    "    MODEL_PATH = \"/content/data/MyDrive/google_lecture/06. deep learning/3. NLP Pytorch/model/\"\n",
    "except:\n",
    "    DATA_PATH = \"/home/parking/ml/data/data/naver_review/\"\n",
    "    MODEL_PATH = \"/home/parking/ml/data/models/naver_review/\"\n",
    "\n",
    "# 데이터 경로 설정 함수 정의\n",
    "def set_path(path):\n",
    "    DATA_PATH = path + 'data/naver_review/'\n",
    "    MODEL_PATH = path + 'models/naver_review/'"
   ]
  },
  {
   "cell_type": "code",
   "execution_count": null,
   "metadata": {},
   "outputs": [],
   "source": []
  }
 ],
 "metadata": {
  "language_info": {
   "name": "python"
  },
  "orig_nbformat": 4
 },
 "nbformat": 4,
 "nbformat_minor": 2
}
