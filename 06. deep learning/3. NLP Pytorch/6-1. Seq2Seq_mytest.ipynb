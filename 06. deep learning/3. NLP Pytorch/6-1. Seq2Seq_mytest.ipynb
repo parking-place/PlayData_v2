{
 "cells": [
  {
   "cell_type": "code",
   "execution_count": null,
   "metadata": {},
   "outputs": [],
   "source": []
  },
  {
   "attachments": {},
   "cell_type": "markdown",
   "metadata": {},
   "source": [
    "# 직접 해보기"
   ]
  },
  {
   "attachments": {},
   "cell_type": "markdown",
   "metadata": {},
   "source": [
    "## 모듈화한 코드"
   ]
  },
  {
   "cell_type": "code",
   "execution_count": null,
   "metadata": {},
   "outputs": [],
   "source": [
    "import numpy as np\n",
    "import torch\n",
    "from torch import nn\n",
    "from sklearn.metrics import accuracy_score\n",
    "from tqdm import tqdm\n",
    "import matplotlib.pyplot as plt"
   ]
  },
  {
   "cell_type": "code",
   "execution_count": null,
   "metadata": {},
   "outputs": [],
   "source": [
    "# vocab 클래스\n",
    "class AlphabetVocab():\n",
    "    def __init__(self):\n",
    "        self.__idx2char = 'SEPabcdefghijklmnopqrstuvwxyz'\n",
    "        self.__char2idx = {c: i for i, c in enumerate(self.__idx2char)}\n",
    "\n",
    "    def encode(self, word):\n",
    "        return [self.__char2idx[c] for c in word]\n",
    "\n",
    "    def decode(self, idx):\n",
    "        return ''.join([self.__idx2char[i] for i in idx])\n",
    "    \n",
    "    def __len__(self):\n",
    "        return len(self.__idx2char)\n",
    "    \n",
    "    def idx2char(self, idx):\n",
    "        return self.__idx2char[idx]\n",
    "    \n",
    "    def char2idx(self, char):\n",
    "        return self.__char2idx[char]"
   ]
  },
  {
   "cell_type": "code",
   "execution_count": null,
   "metadata": {},
   "outputs": [],
   "source": [
    "# feature, label 나누기, max_len 구하기\n",
    "def data_to_Xy(datas):\n",
    "    X, y = [], []\n",
    "    for data in datas:\n",
    "        X.append(data[0])\n",
    "        y.append(data[1])\n",
    "    _X = X + y\n",
    "    _y = y + X\n",
    "    max_len = max([len(x) for x in _X])\n",
    "    return (_X, _y), max_len"
   ]
  },
  {
   "cell_type": "code",
   "execution_count": null,
   "metadata": {},
   "outputs": [],
   "source": [
    "# 데이터셋 클래스\n",
    "class ConverseWordDataset(Dataset):\n",
    "    def __init__(self, X, y=None, max_len=10, vocab=None):\n",
    "        super().__init__()\n",
    "        # 최대 길이\n",
    "        self.max_len = max_len\n",
    "        # vocab 저장\n",
    "        self.vocab = vocab\n",
    "        # one hot encoding vector\n",
    "        self.oh_vector = np.eye(len(self.vocab))\n",
    "        # 데이터를 토큰화\n",
    "        self.X = self.__tokenizer(X)\n",
    "        # y가 있으면 토큰화\n",
    "        if y is not None:\n",
    "            _y = self.__tokenizer(y)\n",
    "            # 디코더의 입력값과 출력값을 구분하기 위해 시작 토큰과 끝 토큰을 추가\n",
    "            self.y_dec = self.__add_se_token(_y)\n",
    "            self.y_target = self.__add_se_token(_y, sep_tok='E')\n",
    "        else:\n",
    "            # y가 없으면 디코더의 입력값만 생성\n",
    "            self.y_dec = self.__get_eval_dec_input()\n",
    "            self.y_target = None\n",
    "    \n",
    "    def __len__(self):\n",
    "        return len(self.X)\n",
    "    \n",
    "    def __getitem__(self, idx):\n",
    "        # 인코더의 입력값을 ohe\n",
    "        feature = self.oh_vector[self.X[idx]]\n",
    "        # tensor로 변환\n",
    "        feature = torch.tensor(feature, dtype=torch.float)\n",
    "        if self.y_target is not None:\n",
    "            # 디코더의 입력값과 출력값(SE토근이 추가된 y)을 ohe\n",
    "            dec_input = self.oh_vector[self.y_dec[idx]]\n",
    "            target = self.oh_vector[self.y_target[idx]]\n",
    "            # tensor로 변환\n",
    "            dec_input = torch.tensor(dec_input, dtype=torch.float)\n",
    "            target = torch.tensor(target, dtype=torch.float)\n",
    "            return feature, dec_input, target\n",
    "        else:\n",
    "            # 디코더의 입력값만 ohe (SPPPP...)\n",
    "            dec_input = self.oh_vector[self.y_dec[idx]]\n",
    "            # tensor로 변환\n",
    "            dec_input = torch.tensor(dec_input, dtype=torch.float)\n",
    "            return feature, dec_input, None\n",
    "    \n",
    "    def __tokenizer(self, datas):\n",
    "        token_datas = []\n",
    "        for data in datas:\n",
    "            # 패딩\n",
    "            padding_data = data + 'P' * (self.max_len - len(data))\n",
    "            # 토큰화\n",
    "            token_data = self.vocab.encode(padding_data)\n",
    "            token_datas.append(token_data)\n",
    "        # 토큰화된 데이터를 numpy 배열로 변환\n",
    "        return np.array(token_datas)\n",
    "    \n",
    "    def __add_se_token(self, token_datas, sep_tok='S'):\n",
    "        add_sep_datas = []\n",
    "        for token_data in token_datas:\n",
    "            if sep_tok == 'S':\n",
    "                add_sep_data = [self.vocab.char2idx(sep_tok)] + list(token_data)\n",
    "            elif sep_tok == 'E':\n",
    "                add_sep_data = list(token_data) + [self.vocab.char2idx(sep_tok)]\n",
    "            add_sep_datas.append(add_sep_data)\n",
    "        return np.array(add_sep_datas)\n",
    "    \n",
    "    def __get_eval_dec_input(self):\n",
    "        # 데이터의 총 갯수\n",
    "        data_len = len(self.X)\n",
    "        # max길이의 S로 시작해 P가 이어지는 데이터 생성 * 데이터의 총 갯수\n",
    "        eval_dec_input = [[self.vocab.char2idx('S')] + [self.vocab.char2idx('P')] * (self.max_len) for _ in range(data_len)]\n",
    "        return np.array(eval_dec_input)"
   ]
  },
  {
   "cell_type": "code",
   "execution_count": null,
   "metadata": {},
   "outputs": [],
   "source": [
    "######################\n",
    "# 모델 정의\n",
    "######################\n",
    "class ConvWordS2SModel(nn.Module):\n",
    "    def __init__(self, enc_input_size, dec_input_size, hidden_size, output_size, n_layers=1, bidirectional=False):\n",
    "        super().__init__()\n",
    "        self.enc_input_size = enc_input_size\n",
    "        self.hidden_size = hidden_size\n",
    "        self.shape_size = (2 if bidirectional else 1) * n_layers\n",
    "        \n",
    "        self.encoding_layer = nn.RNN(\n",
    "                                    input_size=enc_input_size,\n",
    "                                    hidden_size=hidden_size,\n",
    "                                    num_layers=n_layers,\n",
    "                                    batch_first=True,\n",
    "                                    bidirectional=bidirectional,\n",
    "                                    )\n",
    "        self.decoding_layer = nn.RNN(\n",
    "                                    input_size=dec_input_size,\n",
    "                                    hidden_size=hidden_size,\n",
    "                                    num_layers=n_layers,\n",
    "                                    batch_first=True,\n",
    "                                    bidirectional=bidirectional,\n",
    "                                    )\n",
    "        self.output_layer = nn.Sequential(\n",
    "            nn.Linear(hidden_size*2, output_size),\n",
    "            nn.Softmax(dim=-1)\n",
    "        )\n",
    "    \n",
    "    def forward(self, enc_input, dec_input):\n",
    "        shape = (self.shape_size, enc_input.size(0), self.hidden_size)\n",
    "        hidden_state = torch.zeros(shape).to(enc_input.device)\n",
    "        # 인코더의 입력값을 넣어 인코딩\n",
    "        _, enc_hidden = self.encoding_layer(enc_input, hidden_state)\n",
    "        # 인코더의 히든 벡터를 디코더의 히든 벡터로 사용\n",
    "        dec_output, _ = self.decoding_layer(dec_input, enc_hidden)\n",
    "        # 디코더의 출력값을 예측값으로 변환\n",
    "        output = self.output_layer(dec_output)\n",
    "        return output"
   ]
  },
  {
   "cell_type": "code",
   "execution_count": null,
   "metadata": {},
   "outputs": [],
   "source": [
    "######################\n",
    "# 트레인 루프 정의\n",
    "######################\n",
    "def train(model, loader, optimizer, device, loss_fn):\n",
    "    # 모델을 학습 모드로 설정\n",
    "    model.train()\n",
    "    # loss를 저장할 변수\n",
    "    loss_score = None\n",
    "    # score를 저장할 변수\n",
    "    acc_score = None\n",
    "    # 학습 루프\n",
    "    for feature, dec_input, target in loader:\n",
    "        # device에 데이터 이동\n",
    "        feature = feature.to(device)\n",
    "        dec_input = dec_input.to(device)\n",
    "        target = target.to(device)\n",
    "        # 모델에 feature와 dec_input을 넣어 예측값 생성\n",
    "        output = model(feature, dec_input)\n",
    "        # loss 계산\n",
    "        loss = loss_fn(output, target)\n",
    "        # loss 역전파\n",
    "        optimizer.zero_grad()\n",
    "        loss.backward()\n",
    "        optimizer.step()\n",
    "        # loss 기록\n",
    "        loss_score = loss.item()\n",
    "        target = target.detach().cpu().numpy().argmax(axis=-1)\n",
    "        output = output.detach().cpu().numpy().argmax(axis=-1)\n",
    "        # print(target.shape, output.shape)\n",
    "        # score 계산\n",
    "        score = accuracy_score(target.argmax(axis=1), output.argmax(axis=1))\n",
    "        # score 기록\n",
    "        acc_score = score\n",
    "    # loss와 score를 반환\n",
    "    return loss_score, acc_score\n",
    "######################\n",
    "# 테스트 루프 정의\n",
    "######################\n",
    "@torch.inference_mode()\n",
    "def test(model, loader, device):\n",
    "    # 모델을 평가 모드로 설정\n",
    "    model.eval()\n",
    "    # 예측값을 저장할 변수\n",
    "    pred = None\n",
    "    # 평가 루프\n",
    "    for feature, dec_input, _ in loader:\n",
    "        # device에 데이터 이동\n",
    "        feature = feature.to(device)\n",
    "        dec_input = dec_input.to(device)\n",
    "        # 모델에 feature와 dec_input을 넣어 예측값 생성\n",
    "        output = model(feature, dec_input)\n",
    "        # 예측값을 pred_list에 추가\n",
    "        pred = output.detach().cpu().numpy()\n",
    "    return pred"
   ]
  },
  {
   "attachments": {},
   "cell_type": "markdown",
   "metadata": {},
   "source": [
    "## 데이터"
   ]
  },
  {
   "cell_type": "code",
   "execution_count": 28,
   "metadata": {},
   "outputs": [
    {
     "data": {
      "text/plain": [
       "24"
      ]
     },
     "execution_count": 28,
     "metadata": {},
     "output_type": "execute_result"
    }
   ],
   "source": [
    "seq_data = [\n",
    "    ['man', 'women'], ['black', 'white'], ['king', 'queen'],\n",
    "    ['girl', 'boy'], ['up', 'down'], ['high', 'low'],\n",
    "    ['long', 'short'], ['hot', 'cold'], ['rich', 'poor'],\n",
    "    ['sick', 'healthy'], ['thick', 'thin'], ['fat', 'slim'], \n",
    "    ['strong', 'weak'], ['happy', 'sad'], ['right', 'wrong'],\n",
    "    ['win', 'lose'], ['pass', 'fail'], ['true', 'false'],\n",
    "    ['love', 'hate'], ['beautiful', 'ugly'], ['kind', 'cruel'],\n",
    "    ['peace', 'war'], ['safe', 'dangerous'], ['clean', 'dirty'],\n",
    "    # ['soft', 'hard'], ['wrong', 'right'], ['new', 'old'],\n",
    "    # ['good', 'bad'], ['big', 'small'], ['tall', 'short'],\n",
    "    # ['fast', 'slow'], ['hot', 'cold'], ['young', 'old'],\n",
    "    # ['easy', 'difficult'], ['light', 'dark'], ['quiet', 'noisy'],\n",
    "    # ['fly', 'land'], ['open', 'close'], ['near', 'far'],\n",
    "    # ['hello', 'bye'], ['same', 'different'], ['run', 'walk'],\n",
    "    # ['male', 'female'], ['rain', 'sunshine'], ['winter', 'summer'],\n",
    "    # ['morning', 'night'], ['cloudy', 'sunny'], ['cloud', 'sun'],\n",
    "    # ['sun', 'moon'], ['majority', 'minority'], ['minor', 'adult'],\n",
    "    # ['junior', 'senior'], ['red', 'green'], ['yellow', 'blue'],\n",
    "    # ['north', 'south'], ['east', 'west'], ['iphone', 'galaxy'],\n",
    "    # ['google', 'apple'], ['facebook', 'twitter'], ['youtube', 'tiktok'],\n",
    "    # ['amazon', 'ebay'], ['microsoft', 'apple'], ['mac', 'windows'],\n",
    "    # ['ios', 'android'], ['linux', 'windows'], ['ubuntu', 'windows'],\n",
    "    # ['save', 'load'], ['insert', 'delete'], ['append', 'pop'],\n",
    "]\n",
    "\n",
    "len(seq_data)"
   ]
  },
  {
   "cell_type": "code",
   "execution_count": 19,
   "metadata": {},
   "outputs": [],
   "source": [
    "#####################\n",
    "# 데이터 나누기 함수 정의\n",
    "#####################\n",
    "# feature, label 나누기, max_len 구하기\n",
    "def data_to_Xy(datas):\n",
    "    X, y = [], []\n",
    "    for data in datas:\n",
    "        X.append(data[0])\n",
    "        y.append(data[1])\n",
    "    _X = X + y\n",
    "    _y = y + X\n",
    "    max_len = max([len(x) for x in _X])\n",
    "    return (_X, _y), max_len"
   ]
  },
  {
   "attachments": {},
   "cell_type": "markdown",
   "metadata": {},
   "source": [
    "## 모델 생성및 테스트"
   ]
  },
  {
   "cell_type": "code",
   "execution_count": 23,
   "metadata": {},
   "outputs": [
    {
     "name": "stdout",
     "output_type": "stream",
     "text": [
      "ohe\n",
      "ConvWordModel(\n",
      "  (seq2seq_layer): ConvWordSeq2Seq(\n",
      "    (encoding_layer): RNN(29, 256, batch_first=True)\n",
      "    (decoding_layer): RNN(29, 256, batch_first=True)\n",
      "  )\n",
      "  (output_layer): ConvWordOutput(\n",
      "    (output_layer): Sequential(\n",
      "      (0): Linear(in_features=256, out_features=29, bias=True)\n",
      "    )\n",
      "  )\n",
      ")\n"
     ]
    }
   ],
   "source": [
    "######################\n",
    "# 모듈 임포트\n",
    "######################\n",
    "from modules.Seq2Seq_test import *\n",
    "\n",
    "######################\n",
    "# 데이터셋, 로더 생성\n",
    "######################\n",
    "# 단어 사전 생성\n",
    "vocab = AlphabetVocab()\n",
    "# 데이터 분리\n",
    "(X, y), max_len = data_to_Xy(seq_data)\n",
    "\n",
    "######################\n",
    "# 상수 정의\n",
    "######################\n",
    "# EMBEDDING TYPE (ohe or emb)\n",
    "EMBEDDING_TYPE = 'ohe'\n",
    "# vocab 크기\n",
    "VOCAB_SIZE = len(vocab)\n",
    "# EMDEDDING 크기\n",
    "EMBEDDING_SIZE = len(seq_data) if EMBEDDING_TYPE == 'emb' else VOCAB_SIZE\n",
    "# 은닉층 크기\n",
    "HIDDEN_SIZE = 128\n",
    "# 레이어 수\n",
    "N_LAYERS = 1\n",
    "# 양방향 여부\n",
    "BIDIR = False\n",
    "# 학습률\n",
    "LR = 0.001\n",
    "# 에폭\n",
    "N_EPOCHS = 5000\n",
    "# 얼리 스토핑 횟수\n",
    "PATIENCE = 10\n",
    "# 얼리 스토핑 타겟 스코어\n",
    "TARGET_SCORE = 0.98\n",
    "# 모델 저장 경로\n",
    "MODEL_SAVE_PATH = '/home/parking/ml/data/models/S2S/'\n",
    "# 디바이스\n",
    "DEVICE = 'cuda' if torch.cuda.is_available() else 'cpu'\n",
    "CPU = 'cpu'\n",
    "\n",
    "######################\n",
    "# 기타 객체 생성\n",
    "######################\n",
    "loss_fn = nn.CrossEntropyLoss()\n",
    "\n",
    "early_stopping = EarlyStopping(patience=PATIENCE, save_path=MODEL_SAVE_PATH, target_score=TARGET_SCORE, model_name='S2S_model')\n",
    "\n",
    "# 데이터셋 생성\n",
    "convword_dataset = ConverseWordDataset(X=X, y=y, max_len=max_len, vocab=vocab, embedding_type=EMBEDDING_TYPE)\n",
    "\n",
    "# 모델 생성\n",
    "model = ConvWordModel(vocab_size=VOCAB_SIZE,\n",
    "                    embedding_size=EMBEDDING_SIZE,\n",
    "                    hidden_size=HIDDEN_SIZE,\n",
    "                    n_layers=N_LAYERS,\n",
    "                    bidirectional=BIDIR,\n",
    "                    embedding_type=EMBEDDING_TYPE,\n",
    "                    ).to(DEVICE)\n",
    "# 모델 확인\n",
    "print(EMBEDDING_TYPE)\n",
    "print(model)"
   ]
  },
  {
   "attachments": {},
   "cell_type": "markdown",
   "metadata": {},
   "source": [
    "## dec_input에 의미없는 값을 넣고 트레인"
   ]
  },
  {
   "cell_type": "code",
   "execution_count": 6,
   "metadata": {},
   "outputs": [
    {
     "name": "stderr",
     "output_type": "stream",
     "text": [
      "100%|██████████| 5000/5000 [00:20<00:00, 238.37it/s]\n"
     ]
    }
   ],
   "source": [
    "######################\n",
    "# 모델 학습\n",
    "######################\n",
    "# 모델 생성\n",
    "model = ConvWordModel(vocab_size=VOCAB_SIZE,\n",
    "                    embedding_size=EMBEDDING_SIZE,\n",
    "                    hidden_size=HIDDEN_SIZE,\n",
    "                    n_layers=N_LAYERS,\n",
    "                    bidirectional=BIDIR,\n",
    "                    embedding_type=EMBEDDING_TYPE,\n",
    "                    ).to(DEVICE)\n",
    "# 옵티마이저 생성\n",
    "optimizer = torch.optim.Adam(model.parameters(), lr=LR)\n",
    "\n",
    "# 프로그래스바 설정\n",
    "progress_epochs = tqdm(range(N_EPOCHS))\n",
    "\n",
    "# loss와 acc를 저장할 리스트\n",
    "loss_2_list, acc_2_list= [], []\n",
    "\n",
    "# 에폭만큼 학습\n",
    "for epoch in progress_epochs:\n",
    "    # 테스트셋의 설정을 평가로 변경\n",
    "    convword_dataset.eval()\n",
    "    # 트레인 로더 생성(dec_input이 없는 데이터셋)\n",
    "    train_loader_2 = DataLoader(convword_dataset, batch_size=len(convword_dataset), shuffle=True)\n",
    "    # 테스트\n",
    "    loss_score2, acc_score2 = train(model, train_loader_2, optimizer, DEVICE, loss_fn)\n",
    "    # loss, acc, val_acc 기록\n",
    "    loss_2_list.append(loss_score2)\n",
    "    acc_2_list.append(acc_score2)\n",
    "    # 얼리 스토핑 체크\n",
    "    if early_stopping.is_stop(model, acc_score2):\n",
    "        print(f'Early Stopping at Epoch {epoch}')\n",
    "        break"
   ]
  },
  {
   "cell_type": "code",
   "execution_count": 17,
   "metadata": {},
   "outputs": [
    {
     "data": {
      "image/png": "[encoded data removed]",
      "text/plain": [
       "<Figure size 1000x500 with 2 Axes>"
      ]
     },
     "metadata": {},
     "output_type": "display_data"
    }
   ],
   "source": [
    "######################\n",
    "# 학습 결과 시각화\n",
    "######################\n",
    "fig, axes = plt.subplots(1, 2, figsize=(10, 5))\n",
    "fig.suptitle('train without dec_input')\n",
    "axes[0].plot(loss_2_list, label='train')\n",
    "axes[0].set_title('loss')\n",
    "axes[0].legend()\n",
    "axes[1].plot(acc_2_list, label='train')\n",
    "axes[1].legend()\n",
    "axes[1].set_title('accuracy')\n",
    "plt.show()"
   ]
  },
  {
   "attachments": {},
   "cell_type": "markdown",
   "metadata": {},
   "source": [
    "## dec_input에 target 값을 넣고 트레인"
   ]
  },
  {
   "cell_type": "code",
   "execution_count": 24,
   "metadata": {},
   "outputs": [
    {
     "name": "stderr",
     "output_type": "stream",
     "text": [
      "100%|██████████| 5000/5000 [01:53<00:00, 44.02it/s]\n"
     ]
    }
   ],
   "source": [
    "######################\n",
    "# 모델 학습\n",
    "######################\n",
    "# 모델 생성\n",
    "model = ConvWordModel(vocab_size=VOCAB_SIZE,\n",
    "                    embedding_size=EMBEDDING_SIZE,\n",
    "                    hidden_size=HIDDEN_SIZE,\n",
    "                    n_layers=N_LAYERS,\n",
    "                    bidirectional=BIDIR,\n",
    "                    embedding_type=EMBEDDING_TYPE,\n",
    "                    ).to(DEVICE)\n",
    "# 옵티마이저 생성\n",
    "optimizer = torch.optim.Adam(model.parameters(), lr=LR)\n",
    "\n",
    "# 프로그래스바 설정\n",
    "progress_epochs = tqdm(range(N_EPOCHS))\n",
    "\n",
    "# loss와 acc를 저장할 리스트\n",
    "loss_list, acc_list = [], []\n",
    "val_acc_list = []\n",
    "\n",
    "# 에폭만큼 학습\n",
    "for epoch in progress_epochs:\n",
    "    # 데이터셋의 설정을 트레인으로 변경\n",
    "    convword_dataset.train()\n",
    "    # 트레인 로더 생성\n",
    "    train_loader = DataLoader(convword_dataset, batch_size=len(convword_dataset), shuffle=True)\n",
    "    # 트레인\n",
    "    loss_score, acc_score = train(model, train_loader, optimizer, DEVICE, loss_fn)\n",
    "    # 테스트셋의 설정을 평가로 변경(디코더의 입력값이 없는 데이터셋)\n",
    "    convword_dataset.eval()\n",
    "    # 테스트 로더 생성\n",
    "    valid_loader = DataLoader(convword_dataset, batch_size=len(convword_dataset), shuffle=False)\n",
    "    # 테스트\n",
    "    pred, val_acc_score = test(model, valid_loader, DEVICE, is_target=True)\n",
    "    # loss, acc, val_acc 기록\n",
    "    loss_list.append(loss_score)\n",
    "    acc_list.append(acc_score)\n",
    "    val_acc_list.append(val_acc_score)\n",
    "\n",
    "    # 얼리 스토핑 체크\n",
    "    if early_stopping.is_stop(model, val_acc_score):\n",
    "        print(f'Early Stopping at Epoch {epoch}')\n",
    "        break"
   ]
  },
  {
   "cell_type": "code",
   "execution_count": 25,
   "metadata": {},
   "outputs": [
    {
     "data": {
      "image/png": "[encoded data removed]",
      "text/plain": [
       "<Figure size 1000x500 with 2 Axes>"
      ]
     },
     "metadata": {},
     "output_type": "display_data"
    }
   ],
   "source": [
    "######################\n",
    "# 학습 결과 시각화\n",
    "######################\n",
    "fig, axes = plt.subplots(1, 2, figsize=(10, 5))\n",
    "fig.suptitle('train with dec_input')\n",
    "axes[0].plot(loss_list, label='train', alpha=0.8, linewidth=0.2)\n",
    "axes[0].set_title('loss')\n",
    "axes[0].legend()\n",
    "axes[1].plot(acc_list, label='train', alpha=0.8, linewidth=0.2)\n",
    "axes[1].plot(val_acc_list, label='valid(without dec_input)', alpha=0.8, linewidth=0.2)\n",
    "axes[1].legend()\n",
    "axes[1].set_title('accuracy')\n",
    "plt.show()"
   ]
  },
  {
   "attachments": {},
   "cell_type": "markdown",
   "metadata": {},
   "source": [
    "## 베스트 모델 테스트"
   ]
  },
  {
   "cell_type": "code",
   "execution_count": 26,
   "metadata": {},
   "outputs": [
    {
     "data": {
      "text/plain": [
       "<All keys matched successfully>"
      ]
     },
     "execution_count": 26,
     "metadata": {},
     "output_type": "execute_result"
    }
   ],
   "source": [
    "######################\n",
    "# 베스트 모델 불러오기\n",
    "######################\n",
    "model.load_state_dict(torch.load(early_stopping.best_model_path))"
   ]
  },
  {
   "cell_type": "code",
   "execution_count": 27,
   "metadata": {},
   "outputs": [
    {
     "name": "stdout",
     "output_type": "stream",
     "text": [
      "man      \t<-> women          \t:  women    \tOOOO\n",
      "black      \t<-> white          \t:  whit    \tX\n",
      "king      \t<-> queen          \t:  cruel    \tX\n",
      "girl      \t<-> boy          \t:  bo    \tX\n",
      "up      \t<-> down          \t:  down    \tOOOO\n",
      "high      \t<-> low          \t:  lo    \tX\n",
      "long      \t<-> short          \t:  sho    \tX\n",
      "hot      \t<-> cold          \t:  co    \tX\n",
      "rich      \t<-> poor          \t:  poo    \tX\n",
      "sick      \t<-> healthy          \t:  hea    \tX\n",
      "thick      \t<-> thin          \t:  th    \tX\n",
      "fat      \t<-> slim          \t:  sli    \tX\n",
      "strong      \t<-> weak          \t:  wea    \tX\n",
      "happy      \t<-> sad          \t:  sad    \tOOOO\n",
      "right      \t<-> wrong          \t:  wro    \tX\n",
      "win      \t<-> lose          \t:  los    \tX\n",
      "pass      \t<-> fail          \t:  fai    \tX\n",
      "true      \t<-> false          \t:  fals    \tX\n",
      "love      \t<-> hate          \t:  hate    \tOOOO\n",
      "beautiful      \t<-> ugly          \t:  ug    \tX\n",
      "kind      \t<-> cruel          \t:  cruel    \tOOOO\n",
      "peace      \t<-> war          \t:  war    \tOOOO\n",
      "safe      \t<-> dangerous          \t:  dan    \tX\n",
      "clean      \t<-> dirty          \t:  dir    \tX\n",
      "women      \t<-> man          \t:  man    \tOOOO\n",
      "white      \t<-> black          \t:  bla    \tX\n",
      "queen      \t<-> king          \t:  kin    \tX\n",
      "boy      \t<-> girl          \t:  gir    \tX\n",
      "down      \t<-> up          \t:  up    \tOOOO\n",
      "low      \t<-> high          \t:  hi    \tX\n",
      "short      \t<-> long          \t:  lonE    \tX\n",
      "cold      \t<-> hot          \t:  ho    \tX\n",
      "poor      \t<-> rich          \t:  ri    \tX\n",
      "healthy      \t<-> sick          \t:  sick    \tOOOO\n",
      "thin      \t<-> thick          \t:  thi    \tX\n",
      "slim      \t<-> fat          \t:  fat    \tOOOO\n",
      "weak      \t<-> strong          \t:  str    \tX\n",
      "sad      \t<-> happy          \t:  hap    \tX\n",
      "wrong      \t<-> right          \t:  ri    \tX\n",
      "lose      \t<-> win          \t:  win    \tOOOO\n",
      "fail      \t<-> pass          \t:  pas    \tX\n",
      "false      \t<-> true          \t:  tru    \tX\n",
      "hate      \t<-> love          \t:  lov    \tX\n",
      "ugly      \t<-> beautiful          \t:  bea    \tX\n",
      "cruel      \t<-> kind          \t:  kind    \tOOOO\n",
      "war      \t<-> peace          \t:  peac    \tX\n",
      "dangerous      \t<-> safe          \t:  saf    \tX\n",
      "dirty      \t<-> clean          \t:  cle    \tX\n"
     ]
    }
   ],
   "source": [
    "######################\n",
    "# 테스트\n",
    "######################\n",
    "# 테스트 데이터셋 생성\n",
    "test_dataset = ConverseWordDataset(X=X, y=None, max_len=max_len, vocab=vocab, embedding_type=EMBEDDING_TYPE)\n",
    "# 테스트 데이터 로더 생성\n",
    "test_loader = DataLoader(test_dataset, batch_size=len(test_dataset), shuffle=False)\n",
    "# 테스트\n",
    "pred, _ = test(model, test_loader, DEVICE, is_target=False)\n",
    "# 예측값을 문자열로 변환\n",
    "for data, pred_y in zip(convword_dataset, pred):\n",
    "    # feature, dec_input, target = data\n",
    "    feature, dec_input, target = data\n",
    "    # nparray로 변환\n",
    "    feature = feature.numpy() if EMBEDDING_TYPE == 'emb' else feature.numpy().argmax(axis=-1)\n",
    "    target = target.numpy().argmax(axis=-1)[:-1]\n",
    "    pred_y = pred_y.argmax(axis=-1)[:-1]\n",
    "    # print(feature.shape, target.shape, pred_y.shape)\n",
    "    # feature, target, pred_y를 문자열로 변환\n",
    "    feature = ''.join([vocab.idx2char(i) if i != 2 else '' for i in feature])\n",
    "    target = ''.join([vocab.idx2char(i) if i != 2 else '' for i in target])\n",
    "    pred_y = ''.join([vocab.idx2char(i) if i != 2 else '' for i in pred_y])\n",
    "    is_correct = 'OOOO' if target == pred_y else 'X'\n",
    "    print(f'{feature}      \\t<-> {target}          \\t:  {pred_y}    \\t{is_correct}')"
   ]
  },
  {
   "cell_type": "code",
   "execution_count": 12,
   "metadata": {},
   "outputs": [
    {
     "name": "stdout",
     "output_type": "stream",
     "text": [
      "run      \t:  po\n",
      "you      \t:  wai\n",
      "male      \t:  wom\n",
      "cold      \t:  ho\n",
      "queen      \t:  ki\n",
      "bnack      \t:  thi\n"
     ]
    }
   ],
   "source": [
    "######################\n",
    "# 예측\n",
    "######################\n",
    "# 예측할 데이터\n",
    "_data = ['run', 'you', 'male', 'cold', 'queen', 'bnack']\n",
    "\n",
    "# 데이터셋 생성\n",
    "_dataset = ConverseWordDataset(X=_data, max_len=max_len, vocab=vocab, embedding_type=EMBEDDING_TYPE)\n",
    "\n",
    "# 데이터 로더 생성\n",
    "_loader = DataLoader(_dataset, batch_size=len(_dataset), shuffle=False)\n",
    "\n",
    "_datas = next(iter(_loader))\n",
    "\n",
    "# 예측\n",
    "model.eval()\n",
    "pred = model(_datas[0].to(DEVICE), _datas[1].to(DEVICE))\n",
    "pred = pred.detach().cpu().numpy()\n",
    "\n",
    "for data, pred_y in zip(_dataset, pred):\n",
    "    # feature, dec_input, target = data\n",
    "    feature, dec_input, target = data\n",
    "    # nparray로 변환\n",
    "    feature = feature.numpy() if EMBEDDING_TYPE == 'emb' else feature.numpy().argmax(axis=-1)\n",
    "    pred_y = pred_y.argmax(axis=-1)[:-1]\n",
    "    # feature, target, pred_y를 문자열로 변환\n",
    "    feature = ''.join([vocab.idx2char(i) if i != 2 else '' for i in feature])\n",
    "    pred_y = ''.join([vocab.idx2char(i) if i != 2 else '' for i in pred_y])\n",
    "    print(f'{feature}      \\t:  {pred_y}')"
   ]
  },
  {
   "cell_type": "code",
   "execution_count": null,
   "metadata": {},
   "outputs": [],
   "source": []
  }
 ],
 "metadata": {
  "kernelspec": {
   "display_name": "ml",
   "language": "python",
   "name": "python3"
  },
  "language_info": {
   "codemirror_mode": {
    "name": "ipython",
    "version": 3
   },
   "file_extension": ".py",
   "mimetype": "text/x-python",
   "name": "python",
   "nbconvert_exporter": "python",
   "pygments_lexer": "ipython3",
   "version": "3.10.11"
  },
  "orig_nbformat": 4
 },
 "nbformat": 4,
 "nbformat_minor": 2
}
