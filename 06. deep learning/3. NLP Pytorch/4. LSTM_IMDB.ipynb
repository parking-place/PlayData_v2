{
 "cells": [
  {
   "attachments": {},
   "cell_type": "markdown",
   "metadata": {},
   "source": [
    "# 직접 해보기"
   ]
  },
  {
   "attachments": {},
   "cell_type": "markdown",
   "metadata": {},
   "source": [
    "1. 데이터 로드 및 전처리\n",
    "    1. 필요없는 특수문자 제거\n",
    "    1. 소문자화\n",
    "    1. 형태소 분석기를 이용해 압축\n",
    "    1. 단어사전 정의 및 생성\n",
    "    1. 패딩\n",
    "1. 데이터셋 정의\n",
    "1. 모델 정의\n",
    "    1. 레이어 정의\n",
    "    1. 얼리 스토퍼 정의\n",
    "    1. 전체 모델 정의\n",
    "1. 학습/ 평가 함수 생성\n",
    "1. 객체및 변수 생성\n",
    "1. 학습/ 평가 실행\n",
    "    1. 학습/ 평가 내용 시각화\n",
    "1. 최종 평가 실행"
   ]
  },
  {
   "cell_type": "code",
   "execution_count": null,
   "metadata": {},
   "outputs": [
    {
     "name": "stdout",
     "output_type": "stream",
     "text": [
      "NUM_CORES: 20\n"
     ]
    }
   ],
   "source": [
    "######################\n",
    "# 모듈 임포트\n",
    "######################\n",
    "import numpy as np \n",
    "import pandas as pd \n",
    "\n",
    "import torch \n",
    "import torch.nn as nn \n",
    "from torch.utils.data import Dataset, DataLoader\n",
    "\n",
    "from torch.autograd import Variable\n",
    "from torchtext.vocab import build_vocab_from_iterator\n",
    "\n",
    "from tqdm import tqdm\n",
    "\n",
    "import spacy\n",
    "\n",
    "from sklearn.metrics import accuracy_score\n",
    "from sklearn.model_selection import train_test_split\n",
    "\n",
    "import matplotlib.pyplot as plt\n",
    "\n",
    "import time\n",
    "\n",
    "tqdm.pandas()\n",
    "\n",
    "######################\n",
    "# 데이터 패스 정의\n",
    "######################\n",
    "try:\n",
    "    from google.colab import drive\n",
    "    \n",
    "    drive.mount('/content/data')\n",
    "    DATA_PATH = \"/content/data/MyDrive/google_lecture/06. deep learning/3. NLP Pytorch/data/\"\n",
    "    MODEL_PATH = \"/content/data/MyDrive/google_lecture/06. deep learning/3. NLP Pytorch/model/\"\n",
    "except:\n",
    "    DATA_PATH = \"/home/parking/ml/data/data/IMDB/\"\n",
    "    MODEL_PATH = \"/home/parking/ml/data/models/IMDB/\"\n"
   ]
  },
  {
   "attachments": {},
   "cell_type": "markdown",
   "metadata": {},
   "source": [
    "## 클래스 정의"
   ]
  },
  {
   "cell_type": "code",
   "execution_count": null,
   "metadata": {},
   "outputs": [],
   "source": [
    "######################\n",
    "# 전처리 클래스 정의\n",
    "######################\n",
    "class ReviewDataPreprocessing():\n",
    "    def __init__(self, df):\n",
    "        # spacy 객체 생성\n",
    "        self.nlp = spacy.load(\"en_core_web_sm\")\n",
    "        # vocab 생성\n",
    "        print('set vocab')\n",
    "        self.vocab = self.__set_vocab(df)\n",
    "        # features 전처리 및 토큰화, 패딩\n",
    "        print('set features')\n",
    "        self.features = self.__featurs_processing(df)\n",
    "        # targets 전처리\n",
    "        print('set targets')\n",
    "        self.targets = self.__targets_processing(df)\n",
    "    \n",
    "    def load_data(self):\n",
    "        return self.features, self.targets\n",
    "    \n",
    "    def load_vocab(self):\n",
    "        return self.vocab\n",
    "    \n",
    "    # vocab 생성 함수 정의\n",
    "    def __set_vocab(self, df):\n",
    "        # iterator 생성\n",
    "        token_gen = self.__yield_tokens(df,\n",
    "                                        self.__pretreatment_and_tokenizer,\n",
    "                                        )\n",
    "        # vocab 생성\n",
    "        vocab = build_vocab_from_iterator(token_gen,  # iterator\n",
    "                                        specials=[\"<pad>\",\"<unk>\"], # 특수 토큰\n",
    "                                        )\n",
    "        # unkonwn 토큰의 인덱스를 0으로 설정\n",
    "        vocab.set_default_index(vocab[\"<unk>\"])\n",
    "        # vocab 반환\n",
    "        return vocab\n",
    "    \n",
    "    # 피처 전처리 함수 정의\n",
    "    def __featurs_processing(self, df):\n",
    "        print('indexing')\n",
    "        data = df['review'].progress_map(self.__tokens_to_index)\n",
    "        print('padding')\n",
    "        features = self.__padding(data)\n",
    "        return np.array(features)\n",
    "    \n",
    "    # 타겟 전처리 함수 정의\n",
    "    def __targets_processing(self, df):\n",
    "        # 타겟 데이터만 추출\n",
    "        targets = df['sentiment']\n",
    "        # positive를 1, negative를 0으로 변환 후 numpy array로 변환\n",
    "        targets = (targets=='positive').to_numpy().astype(int)\n",
    "        return targets\n",
    "    \n",
    "    # iterator 정의\n",
    "    def __yield_tokens(self, data, tokenizer):\n",
    "        print('tokenizing')\n",
    "        data['review'] = data['review'].progress_map(tokenizer)\n",
    "        print('build vocab')\n",
    "        for token in tqdm(data['review']):\n",
    "            yield token\n",
    "        \n",
    "    # 인덱싱 함수 정의\n",
    "    def __tokens_to_index(self, tokens):\n",
    "        return [self.vocab[token] for token in tokens]\n",
    "    \n",
    "    # 전처리 및 토큰화 함수 정의\n",
    "    def __pretreatment_and_tokenizer(self, text):\n",
    "        # 공백 제거\n",
    "        text = text.strip()\n",
    "        # 소문자로 변환\n",
    "        text = text.lower() \n",
    "        # <br /> 태그 제거\n",
    "        text = text.replace('<br />', '')\n",
    "        # 형태소 분석기를 통한 토큰화\n",
    "        doc = self.nlp(text)\n",
    "        # 명사, 동사, 형용사만 토큰화\n",
    "        return [token.lemma_ for token in doc if token.tag_[0] in \"NVJ\"]\n",
    "\n",
    "    # 패딩 함수 정의\n",
    "    def __padding(self, features):\n",
    "        # 최대 길이 계산\n",
    "        max_len = max(len(feature) for feature in features)\n",
    "        padding_features = []\n",
    "        for feature in tqdm(features):\n",
    "            # 패딩\n",
    "            padding_feature = feature + [0] * (max_len - len(feature))\n",
    "            # 패딩된 데이터를 리스트에 저장\n",
    "            padding_features.append(padding_feature)\n",
    "        return padding_features"
   ]
  },
  {
   "cell_type": "code",
   "execution_count": null,
   "metadata": {},
   "outputs": [],
   "source": [
    "######################\n",
    "# 데이터셋 정의\n",
    "######################\n",
    "class ReviewDataset(Dataset):\n",
    "    def __init__(self, X, y=None):\n",
    "        self.X = X\n",
    "        self.y = y\n",
    "    \n",
    "    def __len__(self):\n",
    "        return len(self.X)\n",
    "    \n",
    "    def __getitem__(self, idx):\n",
    "        X = torch.tensor(self.X[idx], dtype=torch.int64)\n",
    "        if self.y is not None:\n",
    "            y = torch.tensor(self.y[idx], dtype=torch.float32)\n",
    "        return X, y"
   ]
  },
  {
   "cell_type": "code",
   "execution_count": null,
   "metadata": {},
   "outputs": [],
   "source": [
    "######################\n",
    "# 레이어 클래스 정의\n",
    "######################\n",
    "# 임베딩 레이어 클래스 정의\n",
    "class EmbeddingLayer(nn.Module):\n",
    "    def __init__(self, n_class, embedding_size=128):\n",
    "        super().__init__()\n",
    "        self.emb_layer = nn.Embedding(n_class,    # n_class\n",
    "                                    embedding_size, # output_size = embedding_size\n",
    "                                    )\n",
    "\n",
    "    def forward(self, X):\n",
    "        return self.emb_layer(X)\n",
    "# LSTM 레이어 클래스 정의\n",
    "class LSTMLayer(nn.Module):\n",
    "    def __init__(self, embedding_size=128, hidden_size=128, num_layers=3, is_bidirectional=True):\n",
    "        super().__init__()\n",
    "        # 변수 저장\n",
    "        self.shape_size = (2 if is_bidirectional else 1) * num_layers\n",
    "        self.hidden_size = hidden_size\n",
    "        \n",
    "        self.lstm_layer = nn.LSTM(input_size=embedding_size, # input_size = embedding_size\n",
    "                                hidden_size=hidden_size,    # 은닉층의 갯수\n",
    "                                num_layers=num_layers,      # 은닉층 각각의 레이어 갯수\n",
    "                                bidirectional=is_bidirectional,  # 양방향 LSTM 여부\n",
    "                                )\n",
    "        \n",
    "    def forward(self, X):\n",
    "        # 축교환\n",
    "        _X = X.transpose(0, 1)\n",
    "        # hidden_state의 마지막 값만 반환\n",
    "        output_raw = self.__get_hidden_state(_X, len(X))\n",
    "        return output_raw\n",
    "        \n",
    "    def __get_hidden_state(self, X, lenght):\n",
    "        # hidden_state와 cell_state의 shape 정의\n",
    "        shape = (self.shape_size, lenght, self.hidden_size)\n",
    "        # hidden_state와 cell_state를 초기화\n",
    "        hidden_state = torch.zeros(shape).to(X.device)\n",
    "        cell_state = torch.zeros(shape).to(X.device)\n",
    "        # LSTM 레이어를 통해 output과 hidden_state, cell_state를 반환\n",
    "        _, (hidden_state, __) = self.lstm_layer(X, (hidden_state, cell_state))\n",
    "        return hidden_state[-1]\n",
    "# 이진 출력 레이어 클래스 정의\n",
    "class BinaryOutputLayer(nn.Module):\n",
    "    def __init__(self, input_size=128):\n",
    "        super().__init__()\n",
    "        self.output_layer = nn.Sequential(\n",
    "            # 데이터의 양을 반으로 줄임\n",
    "            nn.Linear(input_size, input_size//2, bias=False),\n",
    "            # 활성화 함수\n",
    "            nn.ReLU(),\n",
    "            # 출력 데이터의 양을 1로 줄임\n",
    "            nn.Linear(input_size//2, 1, bias=False),\n",
    "            # 이진분류 이므로 시그모이드 함수를 통해 0~1사이의 값으로 변환\n",
    "            nn.Sigmoid(),\n",
    "            )\n",
    "        \n",
    "    def forward(self, X):\n",
    "        return self.output_layer(X)"
   ]
  },
  {
   "cell_type": "code",
   "execution_count": null,
   "metadata": {},
   "outputs": [],
   "source": [
    "######################\n",
    "# 얼리 스토핑 클래스 정의\n",
    "######################\n",
    "class EarlyStopping():\n",
    "    def __init__(self, patience=10, save_path=None, target_score=0):\n",
    "        # 초기화\n",
    "        self.best_score = 0\n",
    "        self.patience_count = 0\n",
    "        self.target_score = target_score\n",
    "        self.patience = patience\n",
    "        self.save_path = save_path\n",
    "        self.datetime = time.strftime\n",
    "    # 얼리 스토핑 여부 확인 함수 정의\n",
    "    def is_stop(self, model, score, epoch):\n",
    "        # 모델 저장(마지막 모델)\n",
    "        self.__save_last_model(model)\n",
    "        # 스코어가 타겟 스코어보다 낮을 경우\n",
    "        if score < self.target_score:\n",
    "            # patience 초기화\n",
    "            self.patience_count = 0\n",
    "            return False\n",
    "        \n",
    "        # 스코어가 이전보다 좋을 경우\n",
    "        if self.best_score < score:\n",
    "            # 스코어를 업데이트\n",
    "            self.best_score = score\n",
    "            # 모델 저장\n",
    "            self.__save_model(model, epoch)\n",
    "            # patience 초기화\n",
    "            self.patience_count = 0\n",
    "            return False\n",
    "        \n",
    "        # 스코어가 이전보다 좋지 않을 경우 +\n",
    "        # 스코어가 타겟 스코어보다 높을 경우\n",
    "        # patience 증가\n",
    "        self.patience_count += 1\n",
    "        # patience가 최대치를 넘을 경우\n",
    "        if self.patience_count > self.patience:\n",
    "            return True\n",
    "        # patience가 최대치를 넘지 않을 경우\n",
    "        return False\n",
    "    # 모델 저장 함수 정의\n",
    "    def __save_model(self, model, epoch):\n",
    "        model_name = f'IMDB_model_{self.datetime(\"%m%d_%H%M\")}_{epoch+1:04d}.pth'\n",
    "        torch.save(model.state_dict(), self.save_path + model_name)\n",
    "    # 마지막 모델 저장 함수 정의\n",
    "    def __save_last_model(self, model):\n",
    "        model_name = f'IMDB_model_last.pth'\n",
    "        torch.save(model.state_dict(), self.save_path + model_name)"
   ]
  },
  {
   "cell_type": "code",
   "execution_count": null,
   "metadata": {},
   "outputs": [],
   "source": [
    "######################\n",
    "# 모델 정의\n",
    "######################\n",
    "class IMDBReviewPNModel(nn.Module):\n",
    "    def __init__(self, n_class, embedding_size=128, hidden_size=128, num_layers=3, is_bidirectional=True):\n",
    "        super().__init__()\n",
    "        self.seq = nn.Sequential(\n",
    "            # 임베딩 레이어\n",
    "            EmbeddingLayer(n_class=n_class,\n",
    "                        embedding_size=embedding_size,\n",
    "                        ),\n",
    "            # LSTM 레이어\n",
    "            LSTMLayer(embedding_size=embedding_size,\n",
    "                        hidden_size=hidden_size,\n",
    "                        num_layers=num_layers,\n",
    "                        is_bidirectional=is_bidirectional,\n",
    "                        ),\n",
    "            # 이진 아웃풋 레이어\n",
    "            BinaryOutputLayer(\n",
    "                        input_size=hidden_size\n",
    "                        ),\n",
    "        )\n",
    "            \n",
    "    def forward(self, X):\n",
    "        return self.seq(X)"
   ]
  },
  {
   "cell_type": "code",
   "execution_count": null,
   "metadata": {},
   "outputs": [],
   "source": [
    "######################\n",
    "# 학습 함수 정의\n",
    "######################\n",
    "def train_loop(dataloader, model, loss_fn, optimizer, device, threshold=0.5):\n",
    "    # 손실값 초기화\n",
    "    loss_list = []\n",
    "    score_list = []\n",
    "    # 모델을 학습 모드로 설정\n",
    "    model.train()\n",
    "    # 배치 단위로 학습\n",
    "    for X, y in dataloader:\n",
    "        # 데이터를 디바이스에 할당\n",
    "        X = X.to(device)\n",
    "        y = y.reshape(-1,1).to(device)\n",
    "        # 모델을 통해 예측\n",
    "        pred = model(X)\n",
    "        # pred값 클래스로 변환\n",
    "        pred_class = (pred > threshold).to(torch.int64)\n",
    "        # 손실값 계산\n",
    "        loss = loss_fn(pred, y)\n",
    "        # 기울기 초기화\n",
    "        optimizer.zero_grad()\n",
    "        # 역전파\n",
    "        loss.backward()\n",
    "        # 가중치 업데이트\n",
    "        optimizer.step()\n",
    "        # 손실값을 리스트에 저장\n",
    "        loss_list.append(loss.item())\n",
    "        # 정확도를 리스트에 저장\n",
    "        score_list.append(accuracy_score(pred_class.cpu().detach().numpy(),\n",
    "                                        y.cpu().numpy(),\n",
    "                                        ))\n",
    "    # 손실값 평균 계산\n",
    "    loss_mean = np.mean(loss_list)\n",
    "    # 정확도 평균 계산\n",
    "    score_mean = np.mean(score_list)\n",
    "    # 손실값 평균, 정확도 평균 반환\n",
    "    return loss_mean, score_mean\n",
    "\n",
    "######################\n",
    "# 평가 함수 정의\n",
    "######################\n",
    "@torch.inference_mode()\n",
    "def test_loop(dataloader, model, device, threshold=0.5):\n",
    "    # 저장값 초기화\n",
    "    score_list = []\n",
    "    # 모델을 평가 모드로 설정\n",
    "    model.eval()\n",
    "    # 배치 단위로 평가\n",
    "    for X, y in dataloader:\n",
    "        # 데이터를 디바이스에 할당\n",
    "        X = X.to(device)\n",
    "        y = y.reshape(-1,1).to(device)\n",
    "        # 모델을 통해 예측\n",
    "        pred = model(X)\n",
    "        # 예측값을 클래스로 변환\n",
    "        pred_class = (pred > threshold).to(torch.int64)\n",
    "        # 정확도를 리스트에 저장\n",
    "        score_list.append(accuracy_score(pred_class.cpu().detach().numpy(),\n",
    "                                        y.cpu().numpy(),\n",
    "                                        ))\n",
    "    # 정확도 평균 계산\n",
    "    score_mean = np.mean(score_list)\n",
    "    # 정확도 평균 반환\n",
    "    return score_mean\n",
    "\n",
    "######################\n",
    "# epoch 학습 함수 정의\n",
    "######################\n",
    "def epoch_loop(train_dataloader, valid_dataloader, model, loss_fn, optimizer, device, threshold=0.5):\n",
    "    # 학습\n",
    "    train_loss, train_score = train_loop(train_dataloader, model, loss_fn, optimizer, device, threshold)\n",
    "    # 평가\n",
    "    valid_score = test_loop(valid_dataloader, model, device, threshold)\n",
    "    # 손실값 평균, 정확도 평균 반환\n",
    "    return train_loss, train_score, valid_score"
   ]
  },
  {
   "cell_type": "code",
   "execution_count": null,
   "metadata": {},
   "outputs": [],
   "source": []
  },
  {
   "cell_type": "code",
   "execution_count": null,
   "metadata": {},
   "outputs": [],
   "source": []
  },
  {
   "attachments": {},
   "cell_type": "markdown",
   "metadata": {},
   "source": [
    "# 모듈화 이후"
   ]
  },
  {
   "attachments": {},
   "cell_type": "markdown",
   "metadata": {},
   "source": [
    "## 데이터 정의"
   ]
  },
  {
   "cell_type": "code",
   "execution_count": null,
   "metadata": {},
   "outputs": [
    {
     "name": "stdout",
     "output_type": "stream",
     "text": [
      "set vocab\n",
      "tokenizing\n"
     ]
    },
    {
     "name": "stderr",
     "output_type": "stream",
     "text": [
      "100%|██████████| 50000/50000 [18:12<00:00, 45.77it/s]\n"
     ]
    },
    {
     "name": "stdout",
     "output_type": "stream",
     "text": [
      "build vocab\n"
     ]
    },
    {
     "name": "stderr",
     "output_type": "stream",
     "text": [
      "100%|██████████| 50000/50000 [00:00<00:00, 92593.09it/s]\n"
     ]
    },
    {
     "name": "stdout",
     "output_type": "stream",
     "text": [
      "set features\n",
      "indexing\n"
     ]
    },
    {
     "name": "stderr",
     "output_type": "stream",
     "text": [
      "100%|██████████| 50000/50000 [00:02<00:00, 19650.53it/s]\n"
     ]
    },
    {
     "name": "stdout",
     "output_type": "stream",
     "text": [
      "padding\n"
     ]
    },
    {
     "name": "stderr",
     "output_type": "stream",
     "text": [
      "100%|██████████| 50000/50000 [00:00<00:00, 76064.41it/s]\n"
     ]
    },
    {
     "name": "stdout",
     "output_type": "stream",
     "text": [
      "set targets\n"
     ]
    }
   ],
   "source": [
    "######################\n",
    "# 모듈 임포트\n",
    "######################\n",
    "from modules.IMDB import *\n",
    "\n",
    "######################\n",
    "# 데이터 로드\n",
    "######################    \n",
    "df_en = pd.read_csv(DATA_PATH+\"IMDB-Dataset.csv\")\n",
    "# df_en = df_en[:500]\n",
    "\n",
    "######################\n",
    "# 객체 및 변수 생성\n",
    "######################\n",
    "# 데이터 전처리 객체 생성\n",
    "preprocessing_module = ReviewDataPreprocessing(df_en)\n",
    "# 데이터 로드\n",
    "features, targets = preprocessing_module.load_data()\n",
    "# vocab 로드\n",
    "vocab = preprocessing_module.load_vocab()"
   ]
  },
  {
   "cell_type": "code",
   "execution_count": null,
   "metadata": {},
   "outputs": [],
   "source": [
    "######################\n",
    "# feature, target , vocab 저장\n",
    "######################\n",
    "import pickle as pkl\n",
    "# feature 저장\n",
    "np.save(DATA_PATH+'features.npy', features)\n",
    "# target 저장\n",
    "np.save(DATA_PATH+'targets.npy', targets)\n",
    "# vocab 저장\n",
    "with open(DATA_PATH+'vocab.pkl', 'wb') as f:\n",
    "    pkl.dump(vocab, f)"
   ]
  },
  {
   "attachments": {},
   "cell_type": "markdown",
   "metadata": {},
   "source": [
    "## 전처리된 데이터 로드"
   ]
  },
  {
   "cell_type": "code",
   "execution_count": 1,
   "metadata": {},
   "outputs": [],
   "source": [
    "######################\n",
    "# 모듈 임포트\n",
    "######################\n",
    "from modules.IMDB import *\n",
    "\n",
    "(features, targets), vocab = load_IMDB_data()\n",
    "\n",
    "######################\n",
    "# 데이터셋 나누기\n",
    "######################\n",
    "X_train, X_test, y_train, y_test = train_test_split(features,\n",
    "                                                    targets,\n",
    "                                                    test_size=0.2,\n",
    "                                                    shuffle=True,\n",
    "                                                    random_state=1473032201,\n",
    "                                                    stratify=targets,\n",
    "                                                    )"
   ]
  },
  {
   "cell_type": "code",
   "execution_count": 2,
   "metadata": {},
   "outputs": [],
   "source": [
    "######################\n",
    "# 상수 정의\n",
    "######################\n",
    "# 단어(클래스) 갯수\n",
    "N_CLASS = len(vocab)\n",
    "# 에폭 수\n",
    "N_EPOCHS = 100\n",
    "# 배치 크기\n",
    "BATCH_SIZE = 1000\n",
    "# 임베딩 차원 수 (임베딩된 단어의 벡터 차원 수)\n",
    "EMBEDDING_SIZE = 128\n",
    "# LSTM 레이어 은닉층의 차원 수\n",
    "HIDDEN_SIZE = 10\n",
    "# LSTM 레이어 은닉층 각각의 레이어 갯수\n",
    "NUM_LAYERS = 3\n",
    "# LSTM 레이어 양방향 여부\n",
    "IS_BIDIRECTIONAL = True\n",
    "# 학습률\n",
    "LR = 0.001\n",
    "# 얼리 스토핑 횟수\n",
    "PATIENCE = 10\n",
    "# 얼리 스토핑 타겟 스코어\n",
    "TARGET_SCORE = 0.75\n",
    "# 쓰레시 홀드(이진분류 기준)\n",
    "THRES_HOLD = 0.5\n",
    "\n",
    "# 디바이스 설정\n",
    "DEVICE = 'cuda' if torch.cuda.is_available() else 'cpu'\n",
    "CPU = 'cpu'\n",
    "\n",
    "# 얼리 스토핑 객체 생성\n",
    "early_stopping = EarlyStopping(patience=PATIENCE,\n",
    "                            save_path=MODEL_PATH,\n",
    "                            target_score=TARGET_SCORE,\n",
    "                            )\n",
    "\n",
    "# 모델 객체 생성\n",
    "model = IMDBReviewPNModel(n_class=N_CLASS,\n",
    "                        embedding_size=EMBEDDING_SIZE,\n",
    "                        hidden_size=HIDDEN_SIZE,\n",
    "                        num_layers=NUM_LAYERS,\n",
    "                        is_bidirectional=IS_BIDIRECTIONAL,\n",
    "                        ).to(DEVICE)\n",
    "\n",
    "# 손실함수 객체 생성\n",
    "loss_fn = torch.nn.BCELoss()\n",
    "\n",
    "# optimizer 객체 생성\n",
    "optimizer = torch.optim.Adam(model.parameters(), lr=LR)\n",
    "\n",
    "# K-Fold 객체 생성\n",
    "from sklearn.model_selection import KFold\n",
    "cv = KFold(n_splits=5, shuffle=True, random_state=1473032201)"
   ]
  },
  {
   "cell_type": "code",
   "execution_count": 4,
   "metadata": {},
   "outputs": [
    {
     "name": "stderr",
     "output_type": "stream",
     "text": [
      " 63%|██████▎   | 63/100 [33:19<19:34, 31.74s/it]"
     ]
    },
    {
     "name": "stdout",
     "output_type": "stream",
     "text": [
      "Early Stopping at 64 epoch\n"
     ]
    },
    {
     "name": "stderr",
     "output_type": "stream",
     "text": [
      "\n"
     ]
    }
   ],
   "source": [
    "######################\n",
    "# 학습\n",
    "######################\n",
    "# 전체 손실값 및 정확도 저장 딕셔너리\n",
    "loss_score_dict = {\n",
    "    'train_loss':[],\n",
    "    'train_score':[],\n",
    "    'valid_score':[],\n",
    "}\n",
    "# 에폭 수 만큼 학습\n",
    "for epoch in tqdm(range(N_EPOCHS)):\n",
    "    # 손실값 및 정확도 초기화\n",
    "    train_loss_list = []\n",
    "    train_score_list = []\n",
    "    valid_score_list = []\n",
    "    # K-Fold를 통한 학습 및 평가\n",
    "    for i, (tri, vai) in enumerate(cv.split(X_train)):\n",
    "        # 데이터셋 생성\n",
    "        train_dataset = ReviewDataset(X_train[tri], y_train[tri])\n",
    "        valid_dataset = ReviewDataset(X_train[vai], y_train[vai])\n",
    "        # 데이터로더 생성\n",
    "        train_dataloader = DataLoader(train_dataset,\n",
    "                                    batch_size=BATCH_SIZE,\n",
    "                                    shuffle=True,\n",
    "                                    drop_last=True,\n",
    "                                    )\n",
    "        valid_dataloader = DataLoader(valid_dataset,\n",
    "                                    batch_size=BATCH_SIZE,\n",
    "                                    shuffle=False,\n",
    "                                    )\n",
    "        # epoch 학습\n",
    "        loss_and_scores = epoch_loop(train_dataloader,\n",
    "                                    valid_dataloader,\n",
    "                                    model,\n",
    "                                    loss_fn,\n",
    "                                    optimizer,\n",
    "                                    DEVICE,\n",
    "                                    THRES_HOLD,\n",
    "                                    )\n",
    "        train_loss, train_score, valid_score = loss_and_scores\n",
    "        # 손실값 및 정확도 저장\n",
    "        train_loss_list.append(train_loss)\n",
    "        train_score_list.append(train_score)\n",
    "        valid_score_list.append(valid_score)\n",
    "    # epoch 손실값 및 정확도 계산\n",
    "    train_loss_mean = np.mean(train_loss_list)\n",
    "    train_score_mean = np.mean(train_score_list)\n",
    "    valid_score_mean = np.mean(valid_score_list)\n",
    "    # epoch 손실값 및 정확도 저장\n",
    "    loss_score_dict['train_loss'].append(train_loss_mean)\n",
    "    loss_score_dict['train_score'].append(train_score_mean)\n",
    "    loss_score_dict['valid_score'].append(valid_score_mean)\n",
    "    # 얼리 스토핑\n",
    "    if early_stopping.is_stop(model, valid_score_mean, epoch):\n",
    "        print(f'Early Stopping at {epoch+1} epoch')\n",
    "        break"
   ]
  },
  {
   "cell_type": "code",
   "execution_count": 5,
   "metadata": {},
   "outputs": [
    {
     "data": {
      "image/png": "[encoded data removed]",
      "text/plain": [
       "<Figure size 1000x500 with 2 Axes>"
      ]
     },
     "metadata": {},
     "output_type": "display_data"
    }
   ],
   "source": [
    "######################\n",
    "# 학습 결과 시각화\n",
    "######################\n",
    "fig, axes = plt.subplots(1, 2, figsize=(10, 5))\n",
    "# 손실값 시각화\n",
    "axes[0].plot(loss_score_dict['train_loss'])\n",
    "axes[0].set_title('Loss')\n",
    "# 정확도 시각화\n",
    "axes[1].plot(loss_score_dict['train_score'], label='train')\n",
    "axes[1].plot(loss_score_dict['valid_score'], label='valid')\n",
    "axes[1].set_title('Score')\n",
    "axes[1].legend()\n",
    "# 그래프 출력\n",
    "plt.show()"
   ]
  },
  {
   "cell_type": "code",
   "execution_count": 3,
   "metadata": {},
   "outputs": [
    {
     "data": {
      "text/plain": [
       "<All keys matched successfully>"
      ]
     },
     "execution_count": 3,
     "metadata": {},
     "output_type": "execute_result"
    }
   ],
   "source": [
    "######################\n",
    "# 저장된 모델 로드\n",
    "######################\n",
    "# 모델 로드\n",
    "best_model = IMDBReviewPNModel(n_class=N_CLASS,\n",
    "                            embedding_size=EMBEDDING_SIZE,\n",
    "                            hidden_size=HIDDEN_SIZE,\n",
    "                            num_layers=NUM_LAYERS,\n",
    "                            is_bidirectional=IS_BIDIRECTIONAL,\n",
    "                            ).to(DEVICE)\n",
    "\n",
    "best_model.load_state_dict(torch.load(MODEL_PATH+'IMDB_model_best.pth'))"
   ]
  },
  {
   "cell_type": "code",
   "execution_count": 6,
   "metadata": {},
   "outputs": [],
   "source": [
    "######################\n",
    "# 평가\n",
    "######################\n",
    "# 데이터셋 생성\n",
    "test_dataset = ReviewDataset(X_test, y_test)\n",
    "# 데이터로더 생성\n",
    "test_dataloader = DataLoader(test_dataset,\n",
    "                            batch_size=BATCH_SIZE,\n",
    "                            shuffle=False,\n",
    "                            )\n",
    "# 평가\n",
    "test_score = test_loop(test_dataloader,\n",
    "                        best_model,\n",
    "                        DEVICE,\n",
    "                        )"
   ]
  },
  {
   "cell_type": "code",
   "execution_count": 7,
   "metadata": {},
   "outputs": [
    {
     "name": "stdout",
     "output_type": "stream",
     "text": [
      "Test Score: 0.8260\n"
     ]
    }
   ],
   "source": [
    "######################\n",
    "# 결과 출력\n",
    "######################\n",
    "print(f'Test Score: {test_score:.4f}')\n"
   ]
  },
  {
   "cell_type": "code",
   "execution_count": null,
   "metadata": {},
   "outputs": [],
   "source": []
  }
 ],
 "metadata": {
  "kernelspec": {
   "display_name": "ml",
   "language": "python",
   "name": "python3"
  },
  "language_info": {
   "codemirror_mode": {
    "name": "ipython",
    "version": 3
   },
   "file_extension": ".py",
   "mimetype": "text/x-python",
   "name": "python",
   "nbconvert_exporter": "python",
   "pygments_lexer": "ipython3",
   "version": "3.10.11"
  },
  "orig_nbformat": 4
 },
 "nbformat": 4,
 "nbformat_minor": 2
}
