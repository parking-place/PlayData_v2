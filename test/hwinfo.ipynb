{
 "cells": [
  {
   "attachments": {},
   "cell_type": "markdown",
   "metadata": {},
   "source": [
    "### CPU"
   ]
  },
  {
   "cell_type": "code",
   "execution_count": 1,
   "metadata": {},
   "outputs": [
    {
     "name": "stdout",
     "output_type": "stream",
     "text": [
      "model name\t: AMD Ryzen 7 1700X Eight-Core Processor\n",
      "siblings\t: 16\n",
      "cpu cores\t: 8\n"
     ]
    }
   ],
   "source": [
    "!cat /proc/cpuinfo | egrep 'model name|siblings|cpu cores' | head -3"
   ]
  },
  {
   "attachments": {},
   "cell_type": "markdown",
   "metadata": {},
   "source": [
    "### RAM"
   ]
  },
  {
   "cell_type": "code",
   "execution_count": 2,
   "metadata": {},
   "outputs": [
    {
     "name": "stdout",
     "output_type": "stream",
     "text": [
      "               total        used        free      shared  buff/cache   available\n",
      "Mem:            31Gi       2.0Gi        28Gi       1.0Mi       1.0Gi        28Gi\n",
      "Swap:          8.0Gi          0B       8.0Gi\n"
     ]
    }
   ],
   "source": [
    "!free -h"
   ]
  },
  {
   "attachments": {},
   "cell_type": "markdown",
   "metadata": {},
   "source": [
    "### GPU"
   ]
  },
  {
   "cell_type": "code",
   "execution_count": 1,
   "metadata": {},
   "outputs": [
    {
     "name": "stdout",
     "output_type": "stream",
     "text": [
      "Tue Jun 20 02:53:36 2023       \n",
      "+-----------------------------------------------------------------------------+\n",
      "| NVIDIA-SMI 525.105.17   Driver Version: 525.105.17   CUDA Version: 12.0     |\n",
      "|-------------------------------+----------------------+----------------------+\n",
      "| GPU  Name        Persistence-M| Bus-Id        Disp.A | Volatile Uncorr. ECC |\n",
      "| Fan  Temp  Perf  Pwr:Usage/Cap|         Memory-Usage | GPU-Util  Compute M. |\n",
      "|                               |                      |               MIG M. |\n",
      "|===============================+======================+======================|\n",
      "|   0  NVIDIA GeForce ...  Off  | 00000000:0B:00.0 Off |                  N/A |\n",
      "|  0%   62C    P0    37W / 170W |      0MiB / 12288MiB |      0%      Default |\n",
      "|                               |                      |                  N/A |\n",
      "+-------------------------------+----------------------+----------------------+\n",
      "                                                                               \n",
      "+-----------------------------------------------------------------------------+\n",
      "| Processes:                                                                  |\n",
      "|  GPU   GI   CI        PID   Type   Process name                  GPU Memory |\n",
      "|        ID   ID                                                   Usage      |\n",
      "|=============================================================================|\n",
      "|  No running processes found                                                 |\n",
      "+-----------------------------------------------------------------------------+\n"
     ]
    }
   ],
   "source": [
    "!nvidia-smi"
   ]
  },
  {
   "cell_type": "code",
   "execution_count": 3,
   "metadata": {},
   "outputs": [
    {
     "name": "stdout",
     "output_type": "stream",
     "text": [
      "Tue Jun 20 01:10:59 2023       \n",
      "+-----------------------------------------------------------------------------+\n",
      "| NVIDIA-SMI 525.105.17   Driver Version: 525.105.17   CUDA Version: 12.0     |\n",
      "|-------------------------------+----------------------+----------------------+\n",
      "| GPU  Name        Persistence-M| Bus-Id        Disp.A | Volatile Uncorr. ECC |\n",
      "| Fan  Temp  Perf  Pwr:Usage/Cap|         Memory-Usage | GPU-Util  Compute M. |\n",
      "|                               |                      |               MIG M. |\n",
      "|===============================+======================+======================|\n",
      "|   0  NVIDIA GeForce ...  Off  | 00000000:0B:00.0 Off |                  N/A |\n",
      "|  0%   67C    P0    39W / 170W |      0MiB / 12288MiB |      0%      Default |\n",
      "|                               |                      |                  N/A |\n",
      "+-------------------------------+----------------------+----------------------+\n",
      "                                                                               \n",
      "+-----------------------------------------------------------------------------+\n",
      "| Processes:                                                                  |\n",
      "|  GPU   GI   CI        PID   Type   Process name                  GPU Memory |\n",
      "|        ID   ID                                                   Usage      |\n",
      "|=============================================================================|\n",
      "|  No running processes found                                                 |\n",
      "+-----------------------------------------------------------------------------+\n",
      "cuda\n"
     ]
    }
   ],
   "source": [
    "!nvidia-smi\n",
    "import torch\n",
    "DEVICE = 'cuda' if torch.cuda.is_available() else 'mps' if torch.backend.mps.is_available() else 'cpu'\n",
    "print(DEVICE)"
   ]
  },
  {
   "attachments": {},
   "cell_type": "markdown",
   "metadata": {},
   "source": [
    "### 디스크 용량 확인"
   ]
  },
  {
   "cell_type": "code",
   "execution_count": 4,
   "metadata": {},
   "outputs": [
    {
     "name": "stdout",
     "output_type": "stream",
     "text": [
      "Filesystem                         Size  Used Avail Use% Mounted on\n",
      "tmpfs                              3.2G  1.5M  3.2G   1% /run\n",
      "/dev/mapper/ubuntu--vg-ubuntu--lv  455G   38G  398G   9% /\n",
      "tmpfs                               16G     0   16G   0% /dev/shm\n",
      "tmpfs                              5.0M     0  5.0M   0% /run/lock\n",
      "/dev/nvme0n1p2                     2.0G  219M  1.6G  12% /boot\n",
      "/dev/nvme0n1p1                     1.1G  6.1M  1.1G   1% /boot/efi\n",
      "tmpfs                              3.2G  4.0K  3.2G   1% /run/user/1000\n"
     ]
    }
   ],
   "source": [
    "!df -h"
   ]
  },
  {
   "attachments": {},
   "cell_type": "markdown",
   "metadata": {},
   "source": [
    "### CPU 사용량 체크"
   ]
  },
  {
   "cell_type": "code",
   "execution_count": 5,
   "metadata": {},
   "outputs": [
    {
     "name": "stdout",
     "output_type": "stream",
     "text": [
      "\u001b[?1h\u001b=\u001b[H\u001b[2J\u001b[mtop - 01:11:13 up 47 min,  1 user,  load average: 0.13, 0.07, 0.02\u001b[m\u001b[m\u001b[m\u001b[m\u001b[K\n",
      "Tasks:\u001b[m\u001b[m\u001b[1m 258 \u001b[m\u001b[mtotal,\u001b[m\u001b[m\u001b[1m   1 \u001b[m\u001b[mrunning,\u001b[m\u001b[m\u001b[1m 257 \u001b[m\u001b[msleeping,\u001b[m\u001b[m\u001b[1m   0 \u001b[m\u001b[mstopped,\u001b[m\u001b[m\u001b[1m   0 \u001b[m\u001b[mzombie\u001b[m\u001b[m\u001b[m\u001b[m\u001b[K\n",
      "%Cpu(s):\u001b[m\u001b[m\u001b[1m  0.8 \u001b[m\u001b[mus,\u001b[m\u001b[m\u001b[1m  0.8 \u001b[m\u001b[msy,\u001b[m\u001b[m\u001b[1m  0.0 \u001b[m\u001b[mni,\u001b[m\u001b[m\u001b[1m 98.4 \u001b[m\u001b[mid,\u001b[m\u001b[m\u001b[1m  0.0 \u001b[m\u001b[mwa,\u001b[m\u001b[m\u001b[1m  0.0 \u001b[m\u001b[mhi,\u001b[m\u001b[m\u001b[1m  0.0 \u001b[m\u001b[msi,\u001b[m\u001b[m\u001b[1m  0.0 \u001b[m\u001b[mst\u001b[m\u001b[m\u001b[m\u001b[m\u001b[K\n",
      "MiB Mem :\u001b[m\u001b[m\u001b[1m  32024.2 \u001b[m\u001b[mtotal,\u001b[m\u001b[m\u001b[1m  28539.6 \u001b[m\u001b[mfree,\u001b[m\u001b[m\u001b[1m   2226.2 \u001b[m\u001b[mused,\u001b[m\u001b[m\u001b[1m   1258.4 \u001b[m\u001b[mbuff/cache\u001b[m\u001b[m\u001b[m\u001b[m\u001b[K\n",
      "MiB Swap:\u001b[m\u001b[m\u001b[1m   8192.0 \u001b[m\u001b[mtotal,\u001b[m\u001b[m\u001b[1m   8192.0 \u001b[m\u001b[mfree,\u001b[m\u001b[m\u001b[1m      0.0 \u001b[m\u001b[mused.\u001b[m\u001b[m\u001b[1m  29388.9 \u001b[m\u001b[mavail Mem \u001b[m\u001b[m\u001b[m\u001b[m\u001b[K\n",
      "\u001b[K\n",
      "\u001b[7m    PID USER      PR  NI    VIRT    RES    SHR S  %CPU  %MEM     TIME+ COMMAND  \u001b[m\u001b[m\u001b[K\n",
      "\u001b[m   1731 parking   20   0   21.4g 382416  45228 S   6.2   1.2   0:34.36 node     \u001b[m\u001b[m\u001b[K\n",
      "\u001b[m   1938 parking   20   0   12.0g 898484  34312 S   6.2   2.7   1:14.06 node     \u001b[m\u001b[m\u001b[K\n",
      "\u001b[m\u001b[1m   2732 parking   20   0   10616   3896   3292 R   6.2   0.0   0:00.13 top      \u001b[m\u001b[m\u001b[K\n",
      "\u001b[m      1 root      20   0  166412  11624   8252 S   0.0   0.0   0:00.99 systemd  \u001b[m\u001b[m\u001b[K\n",
      "\u001b[m      2 root      20   0       0      0      0 S   0.0   0.0   0:00.00 kthreadd \u001b[m\u001b[m\u001b[K\n",
      "\u001b[m      3 root       0 -20       0      0      0 I   0.0   0.0   0:00.00 rcu_gp   \u001b[m\u001b[m\u001b[K\n",
      "\u001b[m      4 root       0 -20       0      0      0 I   0.0   0.0   0:00.00 rcu_par+ \u001b[m\u001b[m\u001b[K\n",
      "\u001b[m      5 root       0 -20       0      0      0 I   0.0   0.0   0:00.00 slub_fl+ \u001b[m\u001b[m\u001b[K\n",
      "\u001b[m      6 root       0 -20       0      0      0 I   0.0   0.0   0:00.00 netns    \u001b[m\u001b[m\u001b[K\n",
      "\u001b[m      8 root       0 -20       0      0      0 I   0.0   0.0   0:00.00 kworker+ \u001b[m\u001b[m\u001b[K\n",
      "\u001b[m     10 root       0 -20       0      0      0 I   0.0   0.0   0:00.00 mm_perc+ \u001b[m\u001b[m\u001b[K\n",
      "\u001b[m     11 root      20   0       0      0      0 S   0.0   0.0   0:00.00 rcu_tas+ \u001b[m\u001b[m\u001b[K\n",
      "\u001b[m     12 root      20   0       0      0      0 S   0.0   0.0   0:00.00 rcu_tas+ \u001b[m\u001b[m\u001b[K\n",
      "\u001b[m     13 root      20   0       0      0      0 S   0.0   0.0   0:00.00 ksoftir+ \u001b[m\u001b[m\u001b[K\n",
      "\u001b[m     14 root      20   0       0      0      0 I   0.0   0.0   0:00.62 rcu_sch+ \u001b[m\u001b[m\u001b[K\n",
      "\u001b[m     15 root      rt   0       0      0      0 S   0.0   0.0   0:00.03 migrati+ \u001b[m\u001b[m\u001b[K\n",
      "\u001b[m     16 root     -51   0       0      0      0 S   0.0   0.0   0:00.00 idle_in+ \u001b[m\u001b[m\u001b[K\u001b[H\u001b[mtop - 01:11:16 up 47 min,  1 user,  load average: 0.12, 0.07, 0.02\u001b[m\u001b[m\u001b[m\u001b[m\u001b[K\n",
      "\n",
      "%Cpu(s):\u001b[m\u001b[m\u001b[1m  0.2 \u001b[m\u001b[mus,\u001b[m\u001b[m\u001b[1m  0.1 \u001b[m\u001b[msy,\u001b[m\u001b[m\u001b[1m  0.0 \u001b[m\u001b[mni,\u001b[m\u001b[m\u001b[1m 99.8 \u001b[m\u001b[mid,\u001b[m\u001b[m\u001b[1m  0.0 \u001b[m\u001b[mwa,\u001b[m\u001b[m\u001b[1m  0.0 \u001b[m\u001b[mhi,\u001b[m\u001b[m\u001b[1m  0.0 \u001b[m\u001b[msi,\u001b[m\u001b[m\u001b[1m  0.0 \u001b[m\u001b[mst\u001b[m\u001b[m\u001b[m\u001b[m\u001b[K\n",
      "MiB Mem :\u001b[m\u001b[m\u001b[1m  32024.2 \u001b[m\u001b[mtotal,\u001b[m\u001b[m\u001b[1m  28538.6 \u001b[m\u001b[mfree,\u001b[m\u001b[m\u001b[1m   2227.2 \u001b[m\u001b[mused,\u001b[m\u001b[m\u001b[1m   1258.4 \u001b[m\u001b[mbuff/cache\u001b[m\u001b[m\u001b[m\u001b[m\u001b[K\n",
      "MiB Swap:\u001b[m\u001b[m\u001b[1m   8192.0 \u001b[m\u001b[mtotal,\u001b[m\u001b[m\u001b[1m   8192.0 \u001b[m\u001b[mfree,\u001b[m\u001b[m\u001b[1m      0.0 \u001b[m\u001b[mused.\u001b[m\u001b[m\u001b[1m  29387.9 \u001b[m\u001b[mavail Mem \u001b[m\u001b[m\u001b[m\u001b[m\u001b[K\n",
      "\u001b[K\n",
      "\n",
      "\u001b[m   2670 parking   20   0 8489716 388136 168584 S   1.7   1.2   0:03.70 python   \u001b[m\u001b[m\u001b[K\n",
      "\u001b[m   1731 parking   20   0   21.4g 382460  45228 S   1.0   1.2   0:34.39 node     \u001b[m\u001b[m\u001b[K\n",
      "\u001b[m    217 root      20   0       0      0      0 I   0.3   0.0   0:00.02 kworker+ \u001b[m\u001b[m\u001b[K\n",
      "\n",
      "\n",
      "\n",
      "\n",
      "\n",
      "\n",
      "\n",
      "\n",
      "\n",
      "\n",
      "\n",
      "\n",
      "\n",
      "\u001b[H\u001b[mtop - 01:11:19 up 47 min,  1 user,  load average: 0.11, 0.07, 0.02\u001b[m\u001b[m\u001b[m\u001b[m\u001b[K\n",
      "\n",
      "%Cpu(s):\u001b[m\u001b[m\u001b[1m  0.1 \u001b[m\u001b[mus,\u001b[m\u001b[m\u001b[1m  0.0 \u001b[m\u001b[msy,\u001b[m\u001b[m\u001b[1m  0.0 \u001b[m\u001b[mni,\u001b[m\u001b[m\u001b[1m 99.8 \u001b[m\u001b[mid,\u001b[m\u001b[m\u001b[1m  0.0 \u001b[m\u001b[mwa,\u001b[m\u001b[m\u001b[1m  0.0 \u001b[m\u001b[mhi,\u001b[m\u001b[m\u001b[1m  0.0 \u001b[m\u001b[msi,\u001b[m\u001b[m\u001b[1m  0.0 \u001b[m\u001b[mst\u001b[m\u001b[m\u001b[m\u001b[m\u001b[K\n",
      "MiB Mem :\u001b[m\u001b[m\u001b[1m  32024.2 \u001b[m\u001b[mtotal,\u001b[m\u001b[m\u001b[1m  28538.4 \u001b[m\u001b[mfree,\u001b[m\u001b[m\u001b[1m   2227.5 \u001b[m\u001b[mused,\u001b[m\u001b[m\u001b[1m   1258.4 \u001b[m\u001b[mbuff/cache\u001b[m\u001b[m\u001b[m\u001b[m\u001b[K\n",
      "MiB Swap:\u001b[m\u001b[m\u001b[1m   8192.0 \u001b[m\u001b[mtotal,\u001b[m\u001b[m\u001b[1m   8192.0 \u001b[m\u001b[mfree,\u001b[m\u001b[m\u001b[1m      0.0 \u001b[m\u001b[mused.\u001b[m\u001b[m\u001b[1m  29387.7 \u001b[m\u001b[mavail Mem \u001b[m\u001b[m\u001b[m\u001b[m\u001b[K\n",
      "\u001b[K\n",
      "\n",
      "\u001b[m   2670 parking   20   0 8489716 388136 168584 S   2.0   1.2   0:03.76 python   \u001b[m\u001b[m\u001b[K\n",
      "\u001b[m   1731 parking   20   0   21.4g 382688  45228 S   0.3   1.2   0:34.40 node     \u001b[m\u001b[m\u001b[K\n",
      "\u001b[m   2723 root     -51   0       0      0      0 S   0.3   0.0   0:00.03 irq/69-+ \u001b[m\u001b[m\u001b[K\n",
      "\u001b[m\u001b[1m   2732 parking   20   0   10616   4160   3292 R   0.3   0.0   0:00.14 top      \u001b[m\u001b[m\u001b[K\n",
      "\u001b[m      1 root      20   0  166412  11624   8252 S   0.0   0.0   0:00.99 systemd  \u001b[m\u001b[m\u001b[K\n",
      "\u001b[m      2 root      20   0       0      0      0 S   0.0   0.0   0:00.00 kthreadd \u001b[m\u001b[m\u001b[K\n",
      "\u001b[m      3 root       0 -20       0      0      0 I   0.0   0.0   0:00.00 rcu_gp   \u001b[m\u001b[m\u001b[K\n",
      "\u001b[m      4 root       0 -20       0      0      0 I   0.0   0.0   0:00.00 rcu_par+ \u001b[m\u001b[m\u001b[K\n",
      "\u001b[m      5 root       0 -20       0      0      0 I   0.0   0.0   0:00.00 slub_fl+ \u001b[m\u001b[m\u001b[K\n",
      "\u001b[m      6 root       0 -20       0      0      0 I   0.0   0.0   0:00.00 netns    \u001b[m\u001b[m\u001b[K\n",
      "\u001b[m      8 root       0 -20       0      0      0 I   0.0   0.0   0:00.00 kworker+ \u001b[m\u001b[m\u001b[K\n",
      "\u001b[m     10 root       0 -20       0      0      0 I   0.0   0.0   0:00.00 mm_perc+ \u001b[m\u001b[m\u001b[K\n",
      "\u001b[m     11 root      20   0       0      0      0 S   0.0   0.0   0:00.00 rcu_tas+ \u001b[m\u001b[m\u001b[K\n",
      "\u001b[m     12 root      20   0       0      0      0 S   0.0   0.0   0:00.00 rcu_tas+ \u001b[m\u001b[m\u001b[K\n",
      "\u001b[m     13 root      20   0       0      0      0 S   0.0   0.0   0:00.00 ksoftir+ \u001b[m\u001b[m\u001b[K\n",
      "\u001b[m     14 root      20   0       0      0      0 I   0.0   0.0   0:00.62 rcu_sch+ \u001b[m\u001b[m\u001b[K\n",
      "\u001b[m     15 root      rt   0       0      0      0 S   0.0   0.0   0:00.03 migrati+ \u001b[m\u001b[m\u001b[K\u001b[H\u001b[mtop - 01:11:22 up 47 min,  1 user,  load average: 0.11, 0.07, 0.02\u001b[m\u001b[m\u001b[m\u001b[m\u001b[K\n",
      "\n",
      "%Cpu(s):\u001b[m\u001b[m\u001b[1m  0.1 \u001b[m\u001b[mus,\u001b[m\u001b[m\u001b[1m  0.1 \u001b[m\u001b[msy,\u001b[m\u001b[m\u001b[1m  0.0 \u001b[m\u001b[mni,\u001b[m\u001b[m\u001b[1m 99.8 \u001b[m\u001b[mid,\u001b[m\u001b[m\u001b[1m  0.0 \u001b[m\u001b[mwa,\u001b[m\u001b[m\u001b[1m  0.0 \u001b[m\u001b[mhi,\u001b[m\u001b[m\u001b[1m  0.0 \u001b[m\u001b[msi,\u001b[m\u001b[m\u001b[1m  0.0 \u001b[m\u001b[mst\u001b[m\u001b[m\u001b[m\u001b[m\u001b[K\n",
      "MiB Mem :\u001b[m\u001b[m\u001b[1m  32024.2 \u001b[m\u001b[mtotal,\u001b[m\u001b[m\u001b[1m  28538.9 \u001b[m\u001b[mfree,\u001b[m\u001b[m\u001b[1m   2227.0 \u001b[m\u001b[mused,\u001b[m\u001b[m\u001b[1m   1258.4 \u001b[m\u001b[mbuff/cache\u001b[m\u001b[m\u001b[m\u001b[m\u001b[K\n",
      "MiB Swap:\u001b[m\u001b[m\u001b[1m   8192.0 \u001b[m\u001b[mtotal,\u001b[m\u001b[m\u001b[1m   8192.0 \u001b[m\u001b[mfree,\u001b[m\u001b[m\u001b[1m      0.0 \u001b[m\u001b[mused.\u001b[m\u001b[m\u001b[1m  29388.2 \u001b[m\u001b[mavail Mem \u001b[m\u001b[m\u001b[m\u001b[m\u001b[K\n",
      "\u001b[K\n",
      "\n",
      "\u001b[m   2670 parking   20   0 8489716 388136 168584 S   1.7   1.2   0:03.81 python   \u001b[m\u001b[m\u001b[K\n",
      "\u001b[m   1731 parking   20   0   21.4g 381708  45228 S   0.7   1.2   0:34.42 node     \u001b[m\u001b[m\u001b[K\n",
      "\u001b[m\u001b[1m   2732 parking   20   0   10616   4160   3292 R   0.3   0.0   0:00.15 top      \u001b[m\u001b[m\u001b[K\n",
      "\u001b[m      1 root      20   0  166412  11624   8252 S   0.0   0.0   0:00.99 systemd  \u001b[m\u001b[m\u001b[K\n",
      "\u001b[m      2 root      20   0       0      0      0 S   0.0   0.0   0:00.00 kthreadd \u001b[m\u001b[m\u001b[K\n",
      "\u001b[m      3 root       0 -20       0      0      0 I   0.0   0.0   0:00.00 rcu_gp   \u001b[m\u001b[m\u001b[K\n",
      "\u001b[m      4 root       0 -20       0      0      0 I   0.0   0.0   0:00.00 rcu_par+ \u001b[m\u001b[m\u001b[K\n",
      "\u001b[m      5 root       0 -20       0      0      0 I   0.0   0.0   0:00.00 slub_fl+ \u001b[m\u001b[m\u001b[K\n",
      "\u001b[m      6 root       0 -20       0      0      0 I   0.0   0.0   0:00.00 netns    \u001b[m\u001b[m\u001b[K\n",
      "\u001b[m      8 root       0 -20       0      0      0 I   0.0   0.0   0:00.00 kworker+ \u001b[m\u001b[m\u001b[K\n",
      "\u001b[m     10 root       0 -20       0      0      0 I   0.0   0.0   0:00.00 mm_perc+ \u001b[m\u001b[m\u001b[K\n",
      "\u001b[m     11 root      20   0       0      0      0 S   0.0   0.0   0:00.00 rcu_tas+ \u001b[m\u001b[m\u001b[K\n",
      "\u001b[m     12 root      20   0       0      0      0 S   0.0   0.0   0:00.00 rcu_tas+ \u001b[m\u001b[m\u001b[K\n",
      "\u001b[m     13 root      20   0       0      0      0 S   0.0   0.0   0:00.00 ksoftir+ \u001b[m\u001b[m\u001b[K\n",
      "\u001b[m     14 root      20   0       0      0      0 I   0.0   0.0   0:00.62 rcu_sch+ \u001b[m\u001b[m\u001b[K\n",
      "\u001b[m     15 root      rt   0       0      0      0 S   0.0   0.0   0:00.03 migrati+ \u001b[m\u001b[m\u001b[K\n",
      "\u001b[m     16 root     -51   0       0      0      0 S   0.0   0.0   0:00.00 idle_in+ \u001b[m\u001b[m\u001b[K\u001b[?1l\u001b>\u001b[25;1H\n",
      "\u001b[K"
     ]
    }
   ],
   "source": [
    "!top"
   ]
  },
  {
   "attachments": {},
   "cell_type": "markdown",
   "metadata": {},
   "source": [
    "### 온도 확인"
   ]
  },
  {
   "cell_type": "code",
   "execution_count": 6,
   "metadata": {},
   "outputs": [
    {
     "name": "stdout",
     "output_type": "stream",
     "text": [
      "k10temp-pci-00c3\n",
      "Adapter: PCI adapter\n",
      "Tctl:         +65.5°C  \n",
      "Tdie:         +45.5°C  \n",
      "\n",
      "nvme-pci-0100\n",
      "Adapter: PCI adapter\n",
      "Composite:    +37.9°C  (low  = -273.1°C, high = +76.8°C)\n",
      "                       (crit = +78.8°C)\n",
      "Sensor 1:     +37.9°C  (low  = -273.1°C, high = +65261.8°C)\n",
      "Sensor 2:     +45.9°C  (low  = -273.1°C, high = +65261.8°C)\n",
      "\n",
      "nct6779-isa-0290\n",
      "Adapter: ISA adapter\n",
      "Vcore:                 256.00 mV (min =  +0.00 V, max =  +1.74 V)\n",
      "in1:                     1.28 V  (min =  +0.00 V, max =  +0.00 V)  ALARM\n",
      "AVCC:                    3.33 V  (min =  +2.98 V, max =  +3.63 V)\n",
      "+3.3V:                   3.33 V  (min =  +2.98 V, max =  +3.63 V)\n",
      "in4:                     1.86 V  (min =  +0.00 V, max =  +0.00 V)  ALARM\n",
      "in5:                   944.00 mV (min =  +0.00 V, max =  +0.00 V)  ALARM\n",
      "in6:                     1.20 V  (min =  +0.00 V, max =  +0.00 V)  ALARM\n",
      "3VSB:                    3.44 V  (min =  +2.98 V, max =  +3.63 V)\n",
      "Vbat:                    3.26 V  (min =  +2.70 V, max =  +3.63 V)\n",
      "in9:                     0.00 V  (min =  +0.00 V, max =  +0.00 V)\n",
      "in10:                  776.00 mV (min =  +0.00 V, max =  +0.00 V)  ALARM\n",
      "in11:                    1.08 V  (min =  +0.00 V, max =  +0.00 V)  ALARM\n",
      "in12:                    1.70 V  (min =  +0.00 V, max =  +0.00 V)  ALARM\n",
      "in13:                  920.00 mV (min =  +0.00 V, max =  +0.00 V)  ALARM\n",
      "in14:                    1.81 V  (min =  +0.00 V, max =  +0.00 V)  ALARM\n",
      "fan1:                     0 RPM  (min =    0 RPM)\n",
      "fan2:                     0 RPM  (min =    0 RPM)\n",
      "fan3:                  2166 RPM  (min =    0 RPM)\n",
      "fan4:                     0 RPM  (min =    0 RPM)\n",
      "fan5:                     0 RPM  (min =    0 RPM)\n",
      "SYSTIN:                 +38.0°C  (high =  +0.0°C, hyst =  +0.0°C)  ALARM  sensor = thermistor\n",
      "CPUTIN:                 +36.5°C  (high = +80.0°C, hyst = +75.0°C)  sensor = thermistor\n",
      "AUXTIN0:                +15.0°C    sensor = thermistor\n",
      "AUXTIN1:                +38.0°C    sensor = thermistor\n",
      "AUXTIN2:                +22.0°C    sensor = thermistor\n",
      "AUXTIN3:                -23.0°C    sensor = thermistor\n",
      "SMBUSMASTER 0:          +55.0°C  \n",
      "PCH_CHIP_CPU_MAX_TEMP:   +0.0°C  \n",
      "PCH_CHIP_TEMP:           +0.0°C  \n",
      "PCH_CPU_TEMP:            +0.0°C  \n",
      "intrusion0:            ALARM\n",
      "intrusion1:            ALARM\n",
      "beep_enable:           disabled\n",
      "\n"
     ]
    }
   ],
   "source": [
    "!sensors"
   ]
  },
  {
   "cell_type": "code",
   "execution_count": 1,
   "metadata": {},
   "outputs": [
    {
     "name": "stdout",
     "output_type": "stream",
     "text": [
      "\u001b[?1l\u001b>:\u001b[24;26H1.20 V  (min =  +0.00 V, max =  +0.00 V)  ALARM\u001b[7CH(crit = +78.8°C)er: Tue Jun 13 07:37:17 2023\u001b[3;1Hsensors\u001b[6;17H\u001b[7m3\u001b[m.\u001b[7m9\u001b[7;17H3\u001b[m.\u001b[7m9\u001b[24;80H\u001b[m\u001b[1;75H8\u001b[6;17H3.\u001b[7m0\u001b[7;17H\u001b[m3.\u001b[7m0\u001b[14;16H49\u001b[24;80H\u001b[m\u001b[1;75H9\u001b[6;17H\u001b[7m2\u001b[m.0\u001b[7;17H\u001b[7m2\u001b[m.0\u001b[14;16H4\u001b[7m7\u001b[18;24H376\u001b[24;80H\u001b[m\u001b[6;17H\u001b[7m1\u001b[11\u001b[14;17H6\u001b[18;24H\u001b[m376\u001b[24;80H\u001b[1;74H20\u001b[6;17H\u001b[7m0\u001b[10\u001b[14;17H5\u001b[24;80H\u001b[m\u001b[6;16H\u001b[7m59\u001b[m.\u001b[7m1\u001b[7;16H39\u001b[m.\u001b[7m1\u001b[14;17H\u001b[m5\u001b[18;25H\u001b[7m12\u001b[24;80H\u001b[m\u001b[1;75H1\u001b[6;16H5\u001b[7m8\u001b[m.1\u001b[7;16H3\u001b[7m8\u001b[m.1\u001b[18;25H12\u001b[24;80H\u001b[1;75H2\u001b[6;17H\u001b[7m7\u001b[17\u001b[24;80H\u001b[m\u001b[6;16H\u001b[7m66\u001b[m.\u001b[7m0\u001b[7;16H46\u001b[m.\u001b[7m0\u001b[18;24H728\u001b[24;80H\u001b[m\u001b[1;75H3\u001b[6;16H6\u001b[7m5\u001b[m.0\u001b[7;16H4\u001b[7m5\u001b[m.0\u001b[18;24H728\u001b[24;80H\u001b[1;75H4\u001b[6;17H\u001b[7m4\u001b[m.\u001b[7m1\u001b[7;17H4\u001b[m.\u001b[7m1\u001b[24;80H\u001b[m\u001b[6;17H\u001b[7m3\u001b[m.1\u001b[7;17H\u001b[7m3\u001b[m.1\u001b[14;17H\u001b[7m4\u001b[18;24H192\u001b[24;80H\u001b[m\u001b[1;75H5\u001b[6;17H\u001b[7m2\u001b[12\u001b[14;17H3\u001b[18;24H\u001b[m192\u001b[24;80H\u001b[6;17H\u001b[7m1\u001b[11\u001b[14;17H\u001b[m3\u001b[24;80H\u001b[24;1H\u001b[2J\u001b[?47l\u001b8"
     ]
    }
   ],
   "source": [
    "\n",
    "!watch -d -n 0.5 'echo sensors;sensors; echo free;free -m; echo nvidia;nvidia-smi'"
   ]
  }
 ],
 "metadata": {
  "kernelspec": {
   "display_name": "ml",
   "language": "python",
   "name": "python3"
  },
  "language_info": {
   "codemirror_mode": {
    "name": "ipython",
    "version": 3
   },
   "file_extension": ".py",
   "mimetype": "text/x-python",
   "name": "python",
   "nbconvert_exporter": "python",
   "pygments_lexer": "ipython3",
   "version": "3.10.11"
  },
  "orig_nbformat": 4
 },
 "nbformat": 4,
 "nbformat_minor": 2
}
