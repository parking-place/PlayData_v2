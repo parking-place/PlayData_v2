{
 "cells": [
  {
   "attachments": {},
   "cell_type": "markdown",
   "metadata": {},
   "source": [
    "### CPU"
   ]
  },
  {
   "cell_type": "code",
   "execution_count": 3,
   "metadata": {},
   "outputs": [
    {
     "name": "stdout",
     "output_type": "stream",
     "text": [
      "model name\t: AMD Ryzen 9 3900 12-Core Processor\n",
      "siblings\t: 24\n",
      "cpu cores\t: 12\n"
     ]
    }
   ],
   "source": [
    "!cat /proc/cpuinfo | egrep 'model name|cpu cores|siblings' | head -3"
   ]
  },
  {
   "attachments": {},
   "cell_type": "markdown",
   "metadata": {},
   "source": [
    "### RAM"
   ]
  },
  {
   "cell_type": "code",
   "execution_count": 4,
   "metadata": {},
   "outputs": [
    {
     "name": "stdout",
     "output_type": "stream",
     "text": [
      "               total        used        free      shared  buff/cache   available\n",
      "Mem:            31Gi       4.3Gi        24Gi       1.0Mi       2.0Gi        26Gi\n",
      "Swap:          8.0Gi          0B       8.0Gi\n"
     ]
    }
   ],
   "source": [
    "!free -h"
   ]
  },
  {
   "attachments": {},
   "cell_type": "markdown",
   "metadata": {},
   "source": [
    "### GPU"
   ]
  },
  {
   "cell_type": "code",
   "execution_count": 2,
   "metadata": {},
   "outputs": [
    {
     "name": "stdout",
     "output_type": "stream",
     "text": [
      "Tue Jun 27 10:37:13 2023       \n",
      "+-----------------------------------------------------------------------------+\n",
      "| NVIDIA-SMI 525.105.17   Driver Version: 525.105.17   CUDA Version: 12.0     |\n",
      "|-------------------------------+----------------------+----------------------+\n",
      "| GPU  Name        Persistence-M| Bus-Id        Disp.A | Volatile Uncorr. ECC |\n",
      "| Fan  Temp  Perf  Pwr:Usage/Cap|         Memory-Usage | GPU-Util  Compute M. |\n",
      "|                               |                      |               MIG M. |\n",
      "|===============================+======================+======================|\n",
      "|   0  NVIDIA GeForce ...  Off  | 00000000:0B:00.0 Off |                  N/A |\n",
      "|  0%   42C    P0    33W / 170W |      0MiB / 12288MiB |      0%      Default |\n",
      "|                               |                      |                  N/A |\n",
      "+-------------------------------+----------------------+----------------------+\n",
      "                                                                               \n",
      "+-----------------------------------------------------------------------------+\n",
      "| Processes:                                                                  |\n",
      "|  GPU   GI   CI        PID   Type   Process name                  GPU Memory |\n",
      "|        ID   ID                                                   Usage      |\n",
      "|=============================================================================|\n",
      "|  No running processes found                                                 |\n",
      "+-----------------------------------------------------------------------------+\n"
     ]
    }
   ],
   "source": [
    "!nvidia-smi"
   ]
  },
  {
   "cell_type": "code",
   "execution_count": 7,
   "metadata": {},
   "outputs": [
    {
     "name": "stdout",
     "output_type": "stream",
     "text": [
      "cuda\n"
     ]
    }
   ],
   "source": [
    "import torch\n",
    "DEVICE = 'cuda' if torch.cuda.is_available() else 'mps' if torch.backend.mps.is_available() else 'cpu'\n",
    "print(DEVICE)"
   ]
  },
  {
   "attachments": {},
   "cell_type": "markdown",
   "metadata": {},
   "source": [
    "### 디스크 용량 확인"
   ]
  },
  {
   "cell_type": "code",
   "execution_count": 4,
   "metadata": {},
   "outputs": [
    {
     "name": "stdout",
     "output_type": "stream",
     "text": [
      "Filesystem                         Size  Used Avail Use% Mounted on\n",
      "tmpfs                              3.2G  1.5M  3.2G   1% /run\n",
      "/dev/mapper/ubuntu--vg-ubuntu--lv  455G   45G  391G  11% /\n",
      "tmpfs                               16G  4.0K   16G   1% /dev/shm\n",
      "tmpfs                              5.0M     0  5.0M   0% /run/lock\n",
      "/dev/nvme0n1p2                     2.0G  429M  1.4G  24% /boot\n",
      "/dev/nvme0n1p1                     1.1G  6.1M  1.1G   1% /boot/efi\n",
      "tmpfs                              3.2G  4.0K  3.2G   1% /run/user/1000\n"
     ]
    }
   ],
   "source": [
    "!df -h"
   ]
  },
  {
   "attachments": {},
   "cell_type": "markdown",
   "metadata": {},
   "source": [
    "### CPU 사용량 체크"
   ]
  },
  {
   "cell_type": "code",
   "execution_count": 5,
   "metadata": {},
   "outputs": [
    {
     "name": "stdout",
     "output_type": "stream",
     "text": [
      "\u001b[?1h\u001b=\u001b[H\u001b[2J\u001b[mtop - 14:52:48 up  2:46,  0 users,  load average: 3.45, 15.12, 13.80\u001b[m\u001b[m\u001b[m\u001b[m\u001b[K\n",
      "Tasks:\u001b[m\u001b[m\u001b[1m 321 \u001b[m\u001b[mtotal,\u001b[m\u001b[m\u001b[1m   1 \u001b[m\u001b[mrunning,\u001b[m\u001b[m\u001b[1m 320 \u001b[m\u001b[msleeping,\u001b[m\u001b[m\u001b[1m   0 \u001b[m\u001b[mstopped,\u001b[m\u001b[m\u001b[1m   0 \u001b[m\u001b[mzombie\u001b[m\u001b[m\u001b[m\u001b[m\u001b[K\n",
      "%Cpu(s):\u001b[m\u001b[m\u001b[1m  0.0 \u001b[m\u001b[mus,\u001b[m\u001b[m\u001b[1m  0.3 \u001b[m\u001b[msy,\u001b[m\u001b[m\u001b[1m  0.0 \u001b[m\u001b[mni,\u001b[m\u001b[m\u001b[1m 99.7 \u001b[m\u001b[mid,\u001b[m\u001b[m\u001b[1m  0.0 \u001b[m\u001b[mwa,\u001b[m\u001b[m\u001b[1m  0.0 \u001b[m\u001b[mhi,\u001b[m\u001b[m\u001b[1m  0.0 \u001b[m\u001b[msi,\u001b[m\u001b[m\u001b[1m  0.0 \u001b[m\u001b[mst\u001b[m\u001b[m\u001b[m\u001b[m\u001b[K\n",
      "MiB Mem :\u001b[m\u001b[m\u001b[1m  32011.1 \u001b[m\u001b[mtotal,\u001b[m\u001b[m\u001b[1m  16196.4 \u001b[m\u001b[mfree,\u001b[m\u001b[m\u001b[1m  12807.6 \u001b[m\u001b[mused,\u001b[m\u001b[m\u001b[1m   3007.1 \u001b[m\u001b[mbuff/cache\u001b[m\u001b[m\u001b[m\u001b[m\u001b[K\n",
      "MiB Swap:\u001b[m\u001b[m\u001b[1m   8192.0 \u001b[m\u001b[mtotal,\u001b[m\u001b[m\u001b[1m   8132.7 \u001b[m\u001b[mfree,\u001b[m\u001b[m\u001b[1m     59.2 \u001b[m\u001b[mused.\u001b[m\u001b[m\u001b[1m  18780.6 \u001b[m\u001b[mavail Mem \u001b[m\u001b[m\u001b[m\u001b[m\u001b[K\n",
      "\u001b[K\n",
      "\u001b[7m    PID USER      PR  NI    VIRT    RES    SHR S  %CPU  %MEM     TIME+ COMMAND  \u001b[m\u001b[m\u001b[K\n",
      "\u001b[m   4102 parking   20   0   21.7g 563064  44036 S   6.7   1.7   3:43.96 node     \u001b[m\u001b[m\u001b[K\n",
      "\u001b[m      1 root      20   0  166388   8804   5736 S   0.0   0.0   0:00.81 systemd  \u001b[m\u001b[m\u001b[K\n",
      "\u001b[m      2 root      20   0       0      0      0 S   0.0   0.0   0:00.00 kthreadd \u001b[m\u001b[m\u001b[K\n",
      "\u001b[m      3 root       0 -20       0      0      0 I   0.0   0.0   0:00.00 rcu_gp   \u001b[m\u001b[m\u001b[K\n",
      "\u001b[m      4 root       0 -20       0      0      0 I   0.0   0.0   0:00.00 rcu_par+ \u001b[m\u001b[m\u001b[K\n",
      "\u001b[m      5 root       0 -20       0      0      0 I   0.0   0.0   0:00.00 slub_fl+ \u001b[m\u001b[m\u001b[K\n",
      "\u001b[m      6 root       0 -20       0      0      0 I   0.0   0.0   0:00.00 netns    \u001b[m\u001b[m\u001b[K\n",
      "\u001b[m      8 root       0 -20       0      0      0 I   0.0   0.0   0:00.00 kworker+ \u001b[m\u001b[m\u001b[K\n",
      "\u001b[m     10 root       0 -20       0      0      0 I   0.0   0.0   0:00.00 mm_perc+ \u001b[m\u001b[m\u001b[K\n",
      "\u001b[m     11 root      20   0       0      0      0 S   0.0   0.0   0:00.00 rcu_tas+ \u001b[m\u001b[m\u001b[K\n",
      "\u001b[m     12 root      20   0       0      0      0 S   0.0   0.0   0:00.00 rcu_tas+ \u001b[m\u001b[m\u001b[K\n",
      "\u001b[m     13 root      20   0       0      0      0 S   0.0   0.0   0:00.00 ksoftir+ \u001b[m\u001b[m\u001b[K\n",
      "\u001b[m     14 root      20   0       0      0      0 I   0.0   0.0   0:01.15 rcu_sch+ \u001b[m\u001b[m\u001b[K\n",
      "\u001b[m     15 root      rt   0       0      0      0 S   0.0   0.0   0:00.03 migrati+ \u001b[m\u001b[m\u001b[K\n",
      "\u001b[m     16 root     -51   0       0      0      0 S   0.0   0.0   0:00.00 idle_in+ \u001b[m\u001b[m\u001b[K\n",
      "\u001b[m     18 root      20   0       0      0      0 S   0.0   0.0   0:00.00 cpuhp/0  \u001b[m\u001b[m\u001b[K\n",
      "\u001b[m     19 root      20   0       0      0      0 S   0.0   0.0   0:00.00 cpuhp/1  \u001b[m\u001b[m\u001b[K\u001b[?1l\u001b>\u001b[25;1H\n",
      "\u001b[K"
     ]
    }
   ],
   "source": [
    "!top -d 0.5"
   ]
  },
  {
   "attachments": {},
   "cell_type": "markdown",
   "metadata": {},
   "source": [
    "### 온도 확인"
   ]
  },
  {
   "cell_type": "code",
   "execution_count": 6,
   "metadata": {},
   "outputs": [
    {
     "name": "stdout",
     "output_type": "stream",
     "text": [
      "k10temp-pci-00c3\n",
      "Adapter: PCI adapter\n",
      "Tctl:         +44.6°C  \n",
      "Tccd1:        +45.0°C  \n",
      "Tccd2:        +56.2°C  \n",
      "\n",
      "nvme-pci-0100\n",
      "Adapter: PCI adapter\n",
      "Composite:    +41.9°C  (low  = -273.1°C, high = +76.8°C)\n",
      "                       (crit = +78.8°C)\n",
      "Sensor 1:     +41.9°C  (low  = -273.1°C, high = +65261.8°C)\n",
      "Sensor 2:     +46.9°C  (low  = -273.1°C, high = +65261.8°C)\n",
      "\n",
      "nct6779-isa-0290\n",
      "Adapter: ISA adapter\n",
      "Vcore:                 144.00 mV (min =  +0.00 V, max =  +1.74 V)\n",
      "in1:                     1.28 V  (min =  +0.00 V, max =  +0.00 V)  ALARM\n",
      "AVCC:                    3.33 V  (min =  +2.98 V, max =  +3.63 V)\n",
      "+3.3V:                   3.33 V  (min =  +2.98 V, max =  +3.63 V)\n",
      "in4:                     1.86 V  (min =  +0.00 V, max =  +0.00 V)  ALARM\n",
      "in5:                     1.10 V  (min =  +0.00 V, max =  +0.00 V)  ALARM\n",
      "in6:                     1.36 V  (min =  +0.00 V, max =  +0.00 V)  ALARM\n",
      "3VSB:                    3.44 V  (min =  +2.98 V, max =  +3.63 V)\n",
      "Vbat:                    3.26 V  (min =  +2.70 V, max =  +3.63 V)\n",
      "in9:                     0.00 V  (min =  +0.00 V, max =  +0.00 V)\n",
      "in10:                  584.00 mV (min =  +0.00 V, max =  +0.00 V)  ALARM\n",
      "in11:                    1.08 V  (min =  +0.00 V, max =  +0.00 V)  ALARM\n",
      "in12:                    1.70 V  (min =  +0.00 V, max =  +0.00 V)  ALARM\n",
      "in13:                  920.00 mV (min =  +0.00 V, max =  +0.00 V)  ALARM\n",
      "in14:                    1.81 V  (min =  +0.00 V, max =  +0.00 V)  ALARM\n",
      "fan1:                     0 RPM  (min =    0 RPM)\n",
      "fan2:                     0 RPM  (min =    0 RPM)\n",
      "fan3:                  1785 RPM  (min =    0 RPM)\n",
      "fan4:                     0 RPM  (min =    0 RPM)\n",
      "fan5:                     0 RPM  (min =    0 RPM)\n",
      "SYSTIN:                 +38.0°C  (high =  +0.0°C, hyst =  +0.0°C)  ALARM  sensor = thermistor\n",
      "CPUTIN:                 +43.0°C  (high = +80.0°C, hyst = +75.0°C)  sensor = thermistor\n",
      "AUXTIN0:                 +7.0°C    sensor = thermistor\n",
      "AUXTIN1:                +51.0°C    sensor = thermistor\n",
      "AUXTIN2:                +22.0°C    sensor = thermistor\n",
      "AUXTIN3:                -24.0°C    sensor = thermistor\n",
      "SMBUSMASTER 0:          +44.0°C  \n",
      "PCH_CHIP_CPU_MAX_TEMP:   +0.0°C  \n",
      "PCH_CHIP_TEMP:           +0.0°C  \n",
      "PCH_CPU_TEMP:            +0.0°C  \n",
      "intrusion0:            ALARM\n",
      "intrusion1:            ALARM\n",
      "beep_enable:           disabled\n",
      "\n"
     ]
    }
   ],
   "source": [
    "!sensors"
   ]
  },
  {
   "cell_type": "code",
   "execution_count": 1,
   "metadata": {},
   "outputs": [
    {
     "name": "stdout",
     "output_type": "stream",
     "text": [
      "\u001b[?1l\u001b>:\u001b[24;26H1.20 V  (min =  +0.00 V, max =  +0.00 V)  ALARM\u001b[7CH(crit = +78.8°C)er: Tue Jun 13 07:37:17 2023\u001b[3;1Hsensors\u001b[6;17H\u001b[7m3\u001b[m.\u001b[7m9\u001b[7;17H3\u001b[m.\u001b[7m9\u001b[24;80H\u001b[m\u001b[1;75H8\u001b[6;17H3.\u001b[7m0\u001b[7;17H\u001b[m3.\u001b[7m0\u001b[14;16H49\u001b[24;80H\u001b[m\u001b[1;75H9\u001b[6;17H\u001b[7m2\u001b[m.0\u001b[7;17H\u001b[7m2\u001b[m.0\u001b[14;16H4\u001b[7m7\u001b[18;24H376\u001b[24;80H\u001b[m\u001b[6;17H\u001b[7m1\u001b[11\u001b[14;17H6\u001b[18;24H\u001b[m376\u001b[24;80H\u001b[1;74H20\u001b[6;17H\u001b[7m0\u001b[10\u001b[14;17H5\u001b[24;80H\u001b[m\u001b[6;16H\u001b[7m59\u001b[m.\u001b[7m1\u001b[7;16H39\u001b[m.\u001b[7m1\u001b[14;17H\u001b[m5\u001b[18;25H\u001b[7m12\u001b[24;80H\u001b[m\u001b[1;75H1\u001b[6;16H5\u001b[7m8\u001b[m.1\u001b[7;16H3\u001b[7m8\u001b[m.1\u001b[18;25H12\u001b[24;80H\u001b[1;75H2\u001b[6;17H\u001b[7m7\u001b[17\u001b[24;80H\u001b[m\u001b[6;16H\u001b[7m66\u001b[m.\u001b[7m0\u001b[7;16H46\u001b[m.\u001b[7m0\u001b[18;24H728\u001b[24;80H\u001b[m\u001b[1;75H3\u001b[6;16H6\u001b[7m5\u001b[m.0\u001b[7;16H4\u001b[7m5\u001b[m.0\u001b[18;24H728\u001b[24;80H\u001b[1;75H4\u001b[6;17H\u001b[7m4\u001b[m.\u001b[7m1\u001b[7;17H4\u001b[m.\u001b[7m1\u001b[24;80H\u001b[m\u001b[6;17H\u001b[7m3\u001b[m.1\u001b[7;17H\u001b[7m3\u001b[m.1\u001b[14;17H\u001b[7m4\u001b[18;24H192\u001b[24;80H\u001b[m\u001b[1;75H5\u001b[6;17H\u001b[7m2\u001b[12\u001b[14;17H3\u001b[18;24H\u001b[m192\u001b[24;80H\u001b[6;17H\u001b[7m1\u001b[11\u001b[14;17H\u001b[m3\u001b[24;80H\u001b[24;1H\u001b[2J\u001b[?47l\u001b8"
     ]
    }
   ],
   "source": [
    "# 터미널에서 실행할것!\n",
    "!watch -d -n 0.5 'echo sensors;sensors; echo free;free -m; echo nvidia;nvidia-smi'"
   ]
  },
  {
   "cell_type": "code",
   "execution_count": null,
   "metadata": {},
   "outputs": [],
   "source": []
  },
  {
   "cell_type": "code",
   "execution_count": null,
   "metadata": {},
   "outputs": [],
   "source": []
  }
 ],
 "metadata": {
  "kernelspec": {
   "display_name": "ml",
   "language": "python",
   "name": "python3"
  },
  "language_info": {
   "codemirror_mode": {
    "name": "ipython",
    "version": 3
   },
   "file_extension": ".py",
   "mimetype": "text/x-python",
   "name": "python",
   "nbconvert_exporter": "python",
   "pygments_lexer": "ipython3",
   "version": "3.10.11"
  },
  "orig_nbformat": 4
 },
 "nbformat": 4,
 "nbformat_minor": 2
}
